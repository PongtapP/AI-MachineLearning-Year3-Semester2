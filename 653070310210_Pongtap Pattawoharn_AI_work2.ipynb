{
  "nbformat": 4,
  "nbformat_minor": 0,
  "metadata": {
    "colab": {
      "provenance": []
    },
    "kernelspec": {
      "name": "python3",
      "display_name": "Python 3"
    },
    "language_info": {
      "name": "python"
    }
  },
  "cells": [
    {
      "cell_type": "markdown",
      "source": [
        "## **Rule การย่างเนื้อ**\n",
        "*   อุณหภูมิภายในเนื้อ > 63°C คือ \"สุก\"\n",
        "*   สีด้านในเนื้อเป็นสีชมพู คือ \"สุก\"\n",
        "*   มีน้ำไหลออกมาจากเนื้อเมื่อกด คือ \"สุก\"\n",
        "*   ระยะเวลาย่าง > 10 นาที คือ \"สุก\"\n",
        "*   ย่างด้วยไฟแรง คือ \"สุก\"\n",
        "*   พื้นผิวด้านนอกของเนื้อมีสีน้ำตาลหรือทองทอง คือ \"สุก\"\n",
        "\n",
        "\n",
        "\n",
        "\n",
        "\n",
        "\n",
        "\n",
        "\n",
        "\n",
        "\n",
        "\n",
        "\n",
        "\n"
      ],
      "metadata": {
        "id": "q-DVpUgmy3MX"
      }
    },
    {
      "cell_type": "code",
      "source": [
        "def steak_rare_check(temperature, inner_color, juice, time, high_heat, surface_color):\n",
        "  if temperature > 63:\n",
        "    return True\n",
        "  elif inner_color == 'pink':\n",
        "    return True\n",
        "  elif juice == True:\n",
        "    return True\n",
        "  elif time > 10:\n",
        "    return True\n",
        "  elif high_heat == True:\n",
        "    return True\n",
        "  elif surface_color == 'brown' or surface_color == 'gold':\n",
        "    return True\n"
      ],
      "metadata": {
        "id": "SiUOgSLt1wNT"
      },
      "execution_count": null,
      "outputs": []
    },
    {
      "cell_type": "markdown",
      "source": [
        "##**Feature การย่างเนื้อ**\n",
        "\n",
        "\n",
        "* อุณหภูมิภายในเนื้อ > 63°C --> True or False\n",
        "* สีด้านในเนื้อเป็นสีชมพู --> True or False\n",
        "* มีน้ำไหลออกมาจากเนื้อเมื่อกด --> True or False\n",
        "* ระยะเวลาย่าง > 10 นาที --> True or False\n",
        "* ย่างบนไฟแรง --> True or False\n",
        "* พื้นผิวด้านนอกของเนื้อมีสีน้ำตาลทอง --> True or False\n",
        "\n"
      ],
      "metadata": {
        "id": "D_o2vgCH0KMZ"
      }
    },
    {
      "cell_type": "code",
      "source": [
        "data = [\n",
        "    {\"Temperature (°C)\": 50, \"Inner Color\": \"red\", \"Juice\": False, \"Time (min)\": 8, \"High Heat\": False, \"Surface Color\": \"red\"},\n",
        "    {\"Temperature (°C)\": 65, \"Inner Color\": \"pink\", \"Juice\": True, \"Time (min)\": 12, \"High Heat\": True, \"Surface Color\": \"gold\"},\n",
        "    {\"Temperature (°C)\": 55, \"Inner Color\": \"pink\", \"Juice\": False, \"Time (min)\": 7, \"High Heat\": False, \"Surface Color\": \"brown\"},\n",
        "    {\"Temperature (°C)\": 70, \"Inner Color\": \"brown\", \"Juice\": False, \"Time (min)\": 15, \"High Heat\": True, \"Surface Color\": \"gold\"},\n",
        "    {\"Temperature (°C)\": 45, \"Inner Color\": \"red\", \"Juice\": False, \"Time (min)\": 5, \"High Heat\": False, \"Surface Color\": \"red\"},\n",
        "    {\"Temperature (°C)\": 66, \"Inner Color\": \"red\", \"Juice\": True, \"Time (min)\": 9, \"High Heat\": False, \"Surface Color\": \"gold\"},\n",
        "]"
      ],
      "metadata": {
        "id": "7RzRynz64Aca"
      },
      "execution_count": null,
      "outputs": []
    },
    {
      "cell_type": "code",
      "source": [
        "import numpy as np\n",
        "\n",
        "data_matrix = np.zeros((6, 6), dtype=int)\n",
        "\n",
        "for i, item in enumerate(data):\n",
        "    data_matrix[i, 0] = 1 if item[\"Temperature (°C)\"] > 63 else 0\n",
        "    data_matrix[i, 1] = 1 if item[\"Inner Color\"] == \"pink\" else 0\n",
        "    data_matrix[i, 2] = 1 if item[\"Juice\"] else 0\n",
        "    data_matrix[i, 3] = 1 if item[\"Time (min)\"] > 10 else 0\n",
        "    data_matrix[i, 4] = 1 if item[\"High Heat\"] else 0\n",
        "    data_matrix[i, 5] = 1 if item[\"Surface Color\"] in (\"brown\", \"gold\") else 0\n",
        "\n",
        "print(data_matrix)"
      ],
      "metadata": {
        "colab": {
          "base_uri": "https://localhost:8080/"
        },
        "id": "oa4EynyY8IRN",
        "outputId": "13e97b09-7b29-4501-a823-ad4fae39466b"
      },
      "execution_count": null,
      "outputs": [
        {
          "output_type": "stream",
          "name": "stdout",
          "text": [
            "[[0 0 0 0 0 0]\n",
            " [1 1 1 1 1 1]\n",
            " [0 1 0 0 0 1]\n",
            " [1 0 0 1 1 1]\n",
            " [0 0 0 0 0 0]\n",
            " [1 0 1 0 0 1]]\n"
          ]
        }
      ]
    },
    {
      "cell_type": "markdown",
      "source": [
        "##**Features(Data)**....................**Target(Label)**\n",
        "*   [0 0 0 0 0 0] .................................................. 0\n",
        "*   [1 1 1 1 1 1] .................................................. 1\n",
        "*   [0 1 0 0 0 1] .................................................. 0\n",
        "*   [1 0 0 1 1 1] .................................................. 1\n",
        "*   [0 0 0 0 0 0] .................................................. 0\n",
        "*   [1 0 1 0 0 1] .................................................. 0\n",
        "\n"
      ],
      "metadata": {
        "id": "i7m6h2GGAkxC"
      }
    }
  ]
}