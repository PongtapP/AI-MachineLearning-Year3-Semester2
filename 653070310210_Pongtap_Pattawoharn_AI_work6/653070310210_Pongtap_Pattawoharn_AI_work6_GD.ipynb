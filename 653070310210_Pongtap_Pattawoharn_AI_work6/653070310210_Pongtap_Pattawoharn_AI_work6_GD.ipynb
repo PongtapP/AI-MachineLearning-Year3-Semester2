{
  "cells": [
    {
      "cell_type": "markdown",
      "metadata": {
        "id": "ttiuZcgD-hip"
      },
      "source": [
        "# **GRADIENT DESCENT METHOD**"
      ]
    },
    {
      "cell_type": "markdown",
      "source": [
        "# เตรียมสภาพแวดล้อมและข้อมูล"
      ],
      "metadata": {
        "id": "tjuHySsU6MAi"
      }
    },
    {
      "cell_type": "markdown",
      "source": [
        "Import Libary"
      ],
      "metadata": {
        "id": "89qenZyfr4j6"
      }
    },
    {
      "cell_type": "code",
      "execution_count": null,
      "metadata": {
        "id": "rkAtxCH4OlHj"
      },
      "outputs": [],
      "source": [
        "import tensorflow.compat.v1 as tf\n",
        "from tensorflow.python.framework.ops import disable_eager_execution\n",
        "\n",
        "import pandas as pd\n",
        "import numpy as np\n",
        "import matplotlib.pyplot as plt\n",
        "import seaborn as seabornInstance\n",
        "from sklearn.model_selection import train_test_split\n",
        "from sklearn import metrics\n",
        "\n",
        "import plotly\n",
        "import plotly.graph_objs as go\n",
        "import plotly.express as px\n",
        "\n",
        "K = tf.keras.backend"
      ]
    },
    {
      "cell_type": "markdown",
      "source": [
        "ปิด tensorflow ในโหมด eagar excution"
      ],
      "metadata": {
        "id": "I62aU0e8sAo7"
      }
    },
    {
      "cell_type": "code",
      "execution_count": null,
      "metadata": {
        "colab": {
          "base_uri": "https://localhost:8080/"
        },
        "id": "qdjYnfo7wV2Z",
        "outputId": "5c931c75-c405-49d7-ac1b-852658635321"
      },
      "outputs": [
        {
          "output_type": "execute_result",
          "data": {
            "text/plain": [
              "False"
            ]
          },
          "metadata": {},
          "execution_count": 33
        }
      ],
      "source": [
        "disable_eager_execution()\n",
        "tf.executing_eagerly()"
      ]
    },
    {
      "cell_type": "markdown",
      "source": [
        "ตั้ง random seed และ epoch"
      ],
      "metadata": {
        "id": "9pH-5w7tsOY_"
      }
    },
    {
      "cell_type": "code",
      "execution_count": null,
      "metadata": {
        "id": "DXfs8d41wXnz"
      },
      "outputs": [],
      "source": [
        "np.random.seed(seed=13)\n",
        "\n",
        "EPOCH=500"
      ]
    },
    {
      "cell_type": "markdown",
      "source": [
        "โหลดไฟล์ csv"
      ],
      "metadata": {
        "id": "LR571gfLsXEU"
      }
    },
    {
      "cell_type": "code",
      "execution_count": null,
      "metadata": {
        "colab": {
          "base_uri": "https://localhost:8080/"
        },
        "id": "EEA9f2QlwoN5",
        "outputId": "47ac536c-8ecf-4fac-8f3a-d8b5859d6076"
      },
      "outputs": [
        {
          "output_type": "stream",
          "name": "stderr",
          "text": [
            "<ipython-input-35-e4ef64a2c4d2>:1: DtypeWarning:\n",
            "\n",
            "Columns (7,8,18,25) have mixed types. Specify dtype option on import or set low_memory=False.\n",
            "\n"
          ]
        },
        {
          "output_type": "execute_result",
          "data": {
            "text/plain": [
              "(119040, 31)"
            ]
          },
          "metadata": {},
          "execution_count": 35
        }
      ],
      "source": [
        "dataset=pd.read_csv('Weather.csv')\n",
        "dataset.shape"
      ]
    },
    {
      "cell_type": "markdown",
      "source": [
        "เช็คข้อมูล"
      ],
      "metadata": {
        "id": "p4-Q_CC3sd31"
      }
    },
    {
      "cell_type": "code",
      "execution_count": null,
      "metadata": {
        "colab": {
          "base_uri": "https://localhost:8080/",
          "height": 349
        },
        "id": "ruFvYnFDxMeO",
        "outputId": "d2c100c6-aae7-4ec5-c312-dc5f760735c1"
      },
      "outputs": [
        {
          "output_type": "execute_result",
          "data": {
            "text/plain": [
              "                 STA  WindGustSpd        MaxTemp        MinTemp  \\\n",
              "count  119040.000000   532.000000  119040.000000  119040.000000   \n",
              "mean    29659.435795    37.774534      27.045111      17.789511   \n",
              "std     20953.209402    10.297808       8.717817       8.334572   \n",
              "min     10001.000000    18.520000     -33.333333     -38.333333   \n",
              "25%     11801.000000    29.632000      25.555556      15.000000   \n",
              "50%     22508.000000    37.040000      29.444444      21.111111   \n",
              "75%     33501.000000    43.059000      31.666667      23.333333   \n",
              "max     82506.000000    75.932000      50.000000      34.444444   \n",
              "\n",
              "            MeanTemp             YR             MO             DA          DR  \\\n",
              "count  119040.000000  119040.000000  119040.000000  119040.000000  533.000000   \n",
              "mean       22.411631      43.805284       6.726016      15.797530   26.998124   \n",
              "std         8.297982       1.136718       3.425561       8.794541   15.221732   \n",
              "min       -35.555556      40.000000       1.000000       1.000000    2.000000   \n",
              "25%        20.555556      43.000000       4.000000       8.000000   11.000000   \n",
              "50%        25.555556      44.000000       7.000000      16.000000   32.000000   \n",
              "75%        27.222222      45.000000      10.000000      23.000000   34.000000   \n",
              "max        40.000000      45.000000      12.000000      31.000000   78.000000   \n",
              "\n",
              "              SPD  ...   FT   FB  FTI  ITH         PGT  SD3  RHX  RHN  RVG  \\\n",
              "count  532.000000  ...  0.0  0.0  0.0  0.0  525.000000  0.0  0.0  0.0  0.0   \n",
              "mean    20.396617  ...  NaN  NaN  NaN  NaN   12.085333  NaN  NaN  NaN  NaN   \n",
              "std      5.560371  ...  NaN  NaN  NaN  NaN    5.731328  NaN  NaN  NaN  NaN   \n",
              "min     10.000000  ...  NaN  NaN  NaN  NaN    0.000000  NaN  NaN  NaN  NaN   \n",
              "25%     16.000000  ...  NaN  NaN  NaN  NaN    8.500000  NaN  NaN  NaN  NaN   \n",
              "50%     20.000000  ...  NaN  NaN  NaN  NaN   11.600000  NaN  NaN  NaN  NaN   \n",
              "75%     23.250000  ...  NaN  NaN  NaN  NaN   15.000000  NaN  NaN  NaN  NaN   \n",
              "max     41.000000  ...  NaN  NaN  NaN  NaN   23.900000  NaN  NaN  NaN  NaN   \n",
              "\n",
              "       WTE  \n",
              "count  0.0  \n",
              "mean   NaN  \n",
              "std    NaN  \n",
              "min    NaN  \n",
              "25%    NaN  \n",
              "50%    NaN  \n",
              "75%    NaN  \n",
              "max    NaN  \n",
              "\n",
              "[8 rows x 24 columns]"
            ],
            "text/html": [
              "\n",
              "  <div id=\"df-6b710688-5cbd-4c79-b514-c53c0ff159aa\" class=\"colab-df-container\">\n",
              "    <div>\n",
              "<style scoped>\n",
              "    .dataframe tbody tr th:only-of-type {\n",
              "        vertical-align: middle;\n",
              "    }\n",
              "\n",
              "    .dataframe tbody tr th {\n",
              "        vertical-align: top;\n",
              "    }\n",
              "\n",
              "    .dataframe thead th {\n",
              "        text-align: right;\n",
              "    }\n",
              "</style>\n",
              "<table border=\"1\" class=\"dataframe\">\n",
              "  <thead>\n",
              "    <tr style=\"text-align: right;\">\n",
              "      <th></th>\n",
              "      <th>STA</th>\n",
              "      <th>WindGustSpd</th>\n",
              "      <th>MaxTemp</th>\n",
              "      <th>MinTemp</th>\n",
              "      <th>MeanTemp</th>\n",
              "      <th>YR</th>\n",
              "      <th>MO</th>\n",
              "      <th>DA</th>\n",
              "      <th>DR</th>\n",
              "      <th>SPD</th>\n",
              "      <th>...</th>\n",
              "      <th>FT</th>\n",
              "      <th>FB</th>\n",
              "      <th>FTI</th>\n",
              "      <th>ITH</th>\n",
              "      <th>PGT</th>\n",
              "      <th>SD3</th>\n",
              "      <th>RHX</th>\n",
              "      <th>RHN</th>\n",
              "      <th>RVG</th>\n",
              "      <th>WTE</th>\n",
              "    </tr>\n",
              "  </thead>\n",
              "  <tbody>\n",
              "    <tr>\n",
              "      <th>count</th>\n",
              "      <td>119040.000000</td>\n",
              "      <td>532.000000</td>\n",
              "      <td>119040.000000</td>\n",
              "      <td>119040.000000</td>\n",
              "      <td>119040.000000</td>\n",
              "      <td>119040.000000</td>\n",
              "      <td>119040.000000</td>\n",
              "      <td>119040.000000</td>\n",
              "      <td>533.000000</td>\n",
              "      <td>532.000000</td>\n",
              "      <td>...</td>\n",
              "      <td>0.0</td>\n",
              "      <td>0.0</td>\n",
              "      <td>0.0</td>\n",
              "      <td>0.0</td>\n",
              "      <td>525.000000</td>\n",
              "      <td>0.0</td>\n",
              "      <td>0.0</td>\n",
              "      <td>0.0</td>\n",
              "      <td>0.0</td>\n",
              "      <td>0.0</td>\n",
              "    </tr>\n",
              "    <tr>\n",
              "      <th>mean</th>\n",
              "      <td>29659.435795</td>\n",
              "      <td>37.774534</td>\n",
              "      <td>27.045111</td>\n",
              "      <td>17.789511</td>\n",
              "      <td>22.411631</td>\n",
              "      <td>43.805284</td>\n",
              "      <td>6.726016</td>\n",
              "      <td>15.797530</td>\n",
              "      <td>26.998124</td>\n",
              "      <td>20.396617</td>\n",
              "      <td>...</td>\n",
              "      <td>NaN</td>\n",
              "      <td>NaN</td>\n",
              "      <td>NaN</td>\n",
              "      <td>NaN</td>\n",
              "      <td>12.085333</td>\n",
              "      <td>NaN</td>\n",
              "      <td>NaN</td>\n",
              "      <td>NaN</td>\n",
              "      <td>NaN</td>\n",
              "      <td>NaN</td>\n",
              "    </tr>\n",
              "    <tr>\n",
              "      <th>std</th>\n",
              "      <td>20953.209402</td>\n",
              "      <td>10.297808</td>\n",
              "      <td>8.717817</td>\n",
              "      <td>8.334572</td>\n",
              "      <td>8.297982</td>\n",
              "      <td>1.136718</td>\n",
              "      <td>3.425561</td>\n",
              "      <td>8.794541</td>\n",
              "      <td>15.221732</td>\n",
              "      <td>5.560371</td>\n",
              "      <td>...</td>\n",
              "      <td>NaN</td>\n",
              "      <td>NaN</td>\n",
              "      <td>NaN</td>\n",
              "      <td>NaN</td>\n",
              "      <td>5.731328</td>\n",
              "      <td>NaN</td>\n",
              "      <td>NaN</td>\n",
              "      <td>NaN</td>\n",
              "      <td>NaN</td>\n",
              "      <td>NaN</td>\n",
              "    </tr>\n",
              "    <tr>\n",
              "      <th>min</th>\n",
              "      <td>10001.000000</td>\n",
              "      <td>18.520000</td>\n",
              "      <td>-33.333333</td>\n",
              "      <td>-38.333333</td>\n",
              "      <td>-35.555556</td>\n",
              "      <td>40.000000</td>\n",
              "      <td>1.000000</td>\n",
              "      <td>1.000000</td>\n",
              "      <td>2.000000</td>\n",
              "      <td>10.000000</td>\n",
              "      <td>...</td>\n",
              "      <td>NaN</td>\n",
              "      <td>NaN</td>\n",
              "      <td>NaN</td>\n",
              "      <td>NaN</td>\n",
              "      <td>0.000000</td>\n",
              "      <td>NaN</td>\n",
              "      <td>NaN</td>\n",
              "      <td>NaN</td>\n",
              "      <td>NaN</td>\n",
              "      <td>NaN</td>\n",
              "    </tr>\n",
              "    <tr>\n",
              "      <th>25%</th>\n",
              "      <td>11801.000000</td>\n",
              "      <td>29.632000</td>\n",
              "      <td>25.555556</td>\n",
              "      <td>15.000000</td>\n",
              "      <td>20.555556</td>\n",
              "      <td>43.000000</td>\n",
              "      <td>4.000000</td>\n",
              "      <td>8.000000</td>\n",
              "      <td>11.000000</td>\n",
              "      <td>16.000000</td>\n",
              "      <td>...</td>\n",
              "      <td>NaN</td>\n",
              "      <td>NaN</td>\n",
              "      <td>NaN</td>\n",
              "      <td>NaN</td>\n",
              "      <td>8.500000</td>\n",
              "      <td>NaN</td>\n",
              "      <td>NaN</td>\n",
              "      <td>NaN</td>\n",
              "      <td>NaN</td>\n",
              "      <td>NaN</td>\n",
              "    </tr>\n",
              "    <tr>\n",
              "      <th>50%</th>\n",
              "      <td>22508.000000</td>\n",
              "      <td>37.040000</td>\n",
              "      <td>29.444444</td>\n",
              "      <td>21.111111</td>\n",
              "      <td>25.555556</td>\n",
              "      <td>44.000000</td>\n",
              "      <td>7.000000</td>\n",
              "      <td>16.000000</td>\n",
              "      <td>32.000000</td>\n",
              "      <td>20.000000</td>\n",
              "      <td>...</td>\n",
              "      <td>NaN</td>\n",
              "      <td>NaN</td>\n",
              "      <td>NaN</td>\n",
              "      <td>NaN</td>\n",
              "      <td>11.600000</td>\n",
              "      <td>NaN</td>\n",
              "      <td>NaN</td>\n",
              "      <td>NaN</td>\n",
              "      <td>NaN</td>\n",
              "      <td>NaN</td>\n",
              "    </tr>\n",
              "    <tr>\n",
              "      <th>75%</th>\n",
              "      <td>33501.000000</td>\n",
              "      <td>43.059000</td>\n",
              "      <td>31.666667</td>\n",
              "      <td>23.333333</td>\n",
              "      <td>27.222222</td>\n",
              "      <td>45.000000</td>\n",
              "      <td>10.000000</td>\n",
              "      <td>23.000000</td>\n",
              "      <td>34.000000</td>\n",
              "      <td>23.250000</td>\n",
              "      <td>...</td>\n",
              "      <td>NaN</td>\n",
              "      <td>NaN</td>\n",
              "      <td>NaN</td>\n",
              "      <td>NaN</td>\n",
              "      <td>15.000000</td>\n",
              "      <td>NaN</td>\n",
              "      <td>NaN</td>\n",
              "      <td>NaN</td>\n",
              "      <td>NaN</td>\n",
              "      <td>NaN</td>\n",
              "    </tr>\n",
              "    <tr>\n",
              "      <th>max</th>\n",
              "      <td>82506.000000</td>\n",
              "      <td>75.932000</td>\n",
              "      <td>50.000000</td>\n",
              "      <td>34.444444</td>\n",
              "      <td>40.000000</td>\n",
              "      <td>45.000000</td>\n",
              "      <td>12.000000</td>\n",
              "      <td>31.000000</td>\n",
              "      <td>78.000000</td>\n",
              "      <td>41.000000</td>\n",
              "      <td>...</td>\n",
              "      <td>NaN</td>\n",
              "      <td>NaN</td>\n",
              "      <td>NaN</td>\n",
              "      <td>NaN</td>\n",
              "      <td>23.900000</td>\n",
              "      <td>NaN</td>\n",
              "      <td>NaN</td>\n",
              "      <td>NaN</td>\n",
              "      <td>NaN</td>\n",
              "      <td>NaN</td>\n",
              "    </tr>\n",
              "  </tbody>\n",
              "</table>\n",
              "<p>8 rows × 24 columns</p>\n",
              "</div>\n",
              "    <div class=\"colab-df-buttons\">\n",
              "\n",
              "  <div class=\"colab-df-container\">\n",
              "    <button class=\"colab-df-convert\" onclick=\"convertToInteractive('df-6b710688-5cbd-4c79-b514-c53c0ff159aa')\"\n",
              "            title=\"Convert this dataframe to an interactive table.\"\n",
              "            style=\"display:none;\">\n",
              "\n",
              "  <svg xmlns=\"http://www.w3.org/2000/svg\" height=\"24px\" viewBox=\"0 -960 960 960\">\n",
              "    <path d=\"M120-120v-720h720v720H120Zm60-500h600v-160H180v160Zm220 220h160v-160H400v160Zm0 220h160v-160H400v160ZM180-400h160v-160H180v160Zm440 0h160v-160H620v160ZM180-180h160v-160H180v160Zm440 0h160v-160H620v160Z\"/>\n",
              "  </svg>\n",
              "    </button>\n",
              "\n",
              "  <style>\n",
              "    .colab-df-container {\n",
              "      display:flex;\n",
              "      gap: 12px;\n",
              "    }\n",
              "\n",
              "    .colab-df-convert {\n",
              "      background-color: #E8F0FE;\n",
              "      border: none;\n",
              "      border-radius: 50%;\n",
              "      cursor: pointer;\n",
              "      display: none;\n",
              "      fill: #1967D2;\n",
              "      height: 32px;\n",
              "      padding: 0 0 0 0;\n",
              "      width: 32px;\n",
              "    }\n",
              "\n",
              "    .colab-df-convert:hover {\n",
              "      background-color: #E2EBFA;\n",
              "      box-shadow: 0px 1px 2px rgba(60, 64, 67, 0.3), 0px 1px 3px 1px rgba(60, 64, 67, 0.15);\n",
              "      fill: #174EA6;\n",
              "    }\n",
              "\n",
              "    .colab-df-buttons div {\n",
              "      margin-bottom: 4px;\n",
              "    }\n",
              "\n",
              "    [theme=dark] .colab-df-convert {\n",
              "      background-color: #3B4455;\n",
              "      fill: #D2E3FC;\n",
              "    }\n",
              "\n",
              "    [theme=dark] .colab-df-convert:hover {\n",
              "      background-color: #434B5C;\n",
              "      box-shadow: 0px 1px 3px 1px rgba(0, 0, 0, 0.15);\n",
              "      filter: drop-shadow(0px 1px 2px rgba(0, 0, 0, 0.3));\n",
              "      fill: #FFFFFF;\n",
              "    }\n",
              "  </style>\n",
              "\n",
              "    <script>\n",
              "      const buttonEl =\n",
              "        document.querySelector('#df-6b710688-5cbd-4c79-b514-c53c0ff159aa button.colab-df-convert');\n",
              "      buttonEl.style.display =\n",
              "        google.colab.kernel.accessAllowed ? 'block' : 'none';\n",
              "\n",
              "      async function convertToInteractive(key) {\n",
              "        const element = document.querySelector('#df-6b710688-5cbd-4c79-b514-c53c0ff159aa');\n",
              "        const dataTable =\n",
              "          await google.colab.kernel.invokeFunction('convertToInteractive',\n",
              "                                                    [key], {});\n",
              "        if (!dataTable) return;\n",
              "\n",
              "        const docLinkHtml = 'Like what you see? Visit the ' +\n",
              "          '<a target=\"_blank\" href=https://colab.research.google.com/notebooks/data_table.ipynb>data table notebook</a>'\n",
              "          + ' to learn more about interactive tables.';\n",
              "        element.innerHTML = '';\n",
              "        dataTable['output_type'] = 'display_data';\n",
              "        await google.colab.output.renderOutput(dataTable, element);\n",
              "        const docLink = document.createElement('div');\n",
              "        docLink.innerHTML = docLinkHtml;\n",
              "        element.appendChild(docLink);\n",
              "      }\n",
              "    </script>\n",
              "  </div>\n",
              "\n",
              "\n",
              "<div id=\"df-016f6b8d-bdbc-4262-925d-d411148ab47e\">\n",
              "  <button class=\"colab-df-quickchart\" onclick=\"quickchart('df-016f6b8d-bdbc-4262-925d-d411148ab47e')\"\n",
              "            title=\"Suggest charts\"\n",
              "            style=\"display:none;\">\n",
              "\n",
              "<svg xmlns=\"http://www.w3.org/2000/svg\" height=\"24px\"viewBox=\"0 0 24 24\"\n",
              "     width=\"24px\">\n",
              "    <g>\n",
              "        <path d=\"M19 3H5c-1.1 0-2 .9-2 2v14c0 1.1.9 2 2 2h14c1.1 0 2-.9 2-2V5c0-1.1-.9-2-2-2zM9 17H7v-7h2v7zm4 0h-2V7h2v10zm4 0h-2v-4h2v4z\"/>\n",
              "    </g>\n",
              "</svg>\n",
              "  </button>\n",
              "\n",
              "<style>\n",
              "  .colab-df-quickchart {\n",
              "      --bg-color: #E8F0FE;\n",
              "      --fill-color: #1967D2;\n",
              "      --hover-bg-color: #E2EBFA;\n",
              "      --hover-fill-color: #174EA6;\n",
              "      --disabled-fill-color: #AAA;\n",
              "      --disabled-bg-color: #DDD;\n",
              "  }\n",
              "\n",
              "  [theme=dark] .colab-df-quickchart {\n",
              "      --bg-color: #3B4455;\n",
              "      --fill-color: #D2E3FC;\n",
              "      --hover-bg-color: #434B5C;\n",
              "      --hover-fill-color: #FFFFFF;\n",
              "      --disabled-bg-color: #3B4455;\n",
              "      --disabled-fill-color: #666;\n",
              "  }\n",
              "\n",
              "  .colab-df-quickchart {\n",
              "    background-color: var(--bg-color);\n",
              "    border: none;\n",
              "    border-radius: 50%;\n",
              "    cursor: pointer;\n",
              "    display: none;\n",
              "    fill: var(--fill-color);\n",
              "    height: 32px;\n",
              "    padding: 0;\n",
              "    width: 32px;\n",
              "  }\n",
              "\n",
              "  .colab-df-quickchart:hover {\n",
              "    background-color: var(--hover-bg-color);\n",
              "    box-shadow: 0 1px 2px rgba(60, 64, 67, 0.3), 0 1px 3px 1px rgba(60, 64, 67, 0.15);\n",
              "    fill: var(--button-hover-fill-color);\n",
              "  }\n",
              "\n",
              "  .colab-df-quickchart-complete:disabled,\n",
              "  .colab-df-quickchart-complete:disabled:hover {\n",
              "    background-color: var(--disabled-bg-color);\n",
              "    fill: var(--disabled-fill-color);\n",
              "    box-shadow: none;\n",
              "  }\n",
              "\n",
              "  .colab-df-spinner {\n",
              "    border: 2px solid var(--fill-color);\n",
              "    border-color: transparent;\n",
              "    border-bottom-color: var(--fill-color);\n",
              "    animation:\n",
              "      spin 1s steps(1) infinite;\n",
              "  }\n",
              "\n",
              "  @keyframes spin {\n",
              "    0% {\n",
              "      border-color: transparent;\n",
              "      border-bottom-color: var(--fill-color);\n",
              "      border-left-color: var(--fill-color);\n",
              "    }\n",
              "    20% {\n",
              "      border-color: transparent;\n",
              "      border-left-color: var(--fill-color);\n",
              "      border-top-color: var(--fill-color);\n",
              "    }\n",
              "    30% {\n",
              "      border-color: transparent;\n",
              "      border-left-color: var(--fill-color);\n",
              "      border-top-color: var(--fill-color);\n",
              "      border-right-color: var(--fill-color);\n",
              "    }\n",
              "    40% {\n",
              "      border-color: transparent;\n",
              "      border-right-color: var(--fill-color);\n",
              "      border-top-color: var(--fill-color);\n",
              "    }\n",
              "    60% {\n",
              "      border-color: transparent;\n",
              "      border-right-color: var(--fill-color);\n",
              "    }\n",
              "    80% {\n",
              "      border-color: transparent;\n",
              "      border-right-color: var(--fill-color);\n",
              "      border-bottom-color: var(--fill-color);\n",
              "    }\n",
              "    90% {\n",
              "      border-color: transparent;\n",
              "      border-bottom-color: var(--fill-color);\n",
              "    }\n",
              "  }\n",
              "</style>\n",
              "\n",
              "  <script>\n",
              "    async function quickchart(key) {\n",
              "      const quickchartButtonEl =\n",
              "        document.querySelector('#' + key + ' button');\n",
              "      quickchartButtonEl.disabled = true;  // To prevent multiple clicks.\n",
              "      quickchartButtonEl.classList.add('colab-df-spinner');\n",
              "      try {\n",
              "        const charts = await google.colab.kernel.invokeFunction(\n",
              "            'suggestCharts', [key], {});\n",
              "      } catch (error) {\n",
              "        console.error('Error during call to suggestCharts:', error);\n",
              "      }\n",
              "      quickchartButtonEl.classList.remove('colab-df-spinner');\n",
              "      quickchartButtonEl.classList.add('colab-df-quickchart-complete');\n",
              "    }\n",
              "    (() => {\n",
              "      let quickchartButtonEl =\n",
              "        document.querySelector('#df-016f6b8d-bdbc-4262-925d-d411148ab47e button');\n",
              "      quickchartButtonEl.style.display =\n",
              "        google.colab.kernel.accessAllowed ? 'block' : 'none';\n",
              "    })();\n",
              "  </script>\n",
              "</div>\n",
              "\n",
              "    </div>\n",
              "  </div>\n"
            ],
            "application/vnd.google.colaboratory.intrinsic+json": {
              "type": "dataframe"
            }
          },
          "metadata": {},
          "execution_count": 36
        }
      ],
      "source": [
        "dataset.describe()"
      ]
    },
    {
      "cell_type": "markdown",
      "source": [
        "พล็อตกราฟ MinTemp และ MaxTemp ดูลักษณะข้อมูล"
      ],
      "metadata": {
        "id": "JXe8mqSSspsI"
      }
    },
    {
      "cell_type": "code",
      "execution_count": null,
      "metadata": {
        "colab": {
          "base_uri": "https://localhost:8080/",
          "height": 472
        },
        "id": "wcw3s0lYxZ6a",
        "outputId": "3e93eca6-40f0-4974-d080-22d78acdd63a"
      },
      "outputs": [
        {
          "output_type": "display_data",
          "data": {
            "text/plain": [
              "<Figure size 640x480 with 1 Axes>"
            ],
            "image/png": "[encoded data removed]"
          },
          "metadata": {}
        }
      ],
      "source": [
        "dataset.plot(x='MinTemp',y='MaxTemp',style='o')\n",
        "plt.title('MinTemp vs MaxTemp')\n",
        "plt.xlabel('MinTemp')\n",
        "plt.ylabel('MaxTemp')\n",
        "plt.savefig('min_max_temp.jpeg', dpi=300)"
      ]
    },
    {
      "cell_type": "markdown",
      "source": [
        "ดูการกระจายตัวของ MaxTemp"
      ],
      "metadata": {
        "id": "-wc7dU6Ns4iv"
      }
    },
    {
      "cell_type": "code",
      "execution_count": null,
      "metadata": {
        "colab": {
          "base_uri": "https://localhost:8080/",
          "height": 1000
        },
        "id": "kopzWZZTyBLC",
        "outputId": "77b7b267-b25d-4926-a71c-721743501a5a"
      },
      "outputs": [
        {
          "output_type": "stream",
          "name": "stderr",
          "text": [
            "<ipython-input-38-876fdbb18738>:3: UserWarning:\n",
            "\n",
            "\n",
            "\n",
            "`distplot` is a deprecated function and will be removed in seaborn v0.14.0.\n",
            "\n",
            "Please adapt your code to use either `displot` (a figure-level function with\n",
            "similar flexibility) or `histplot` (an axes-level function for histograms).\n",
            "\n",
            "For a guide to updating your code to use the new functions, please see\n",
            "https://gist.github.com/mwaskom/de44147ed2974457ad6372750bbe5751\n",
            "\n",
            "\n"
          ]
        },
        {
          "output_type": "display_data",
          "data": {
            "text/plain": [
              "<Figure size 1500x1000 with 1 Axes>"
            ],
            "image/png": "[encoded data removed]"
          },
          "metadata": {}
        }
      ],
      "source": [
        "plt.figure(figsize=(15,10))\n",
        "plt.tight_layout()\n",
        "seabornInstance.distplot(dataset['MaxTemp'])\n",
        "plt.savefig('dis_max_temp.jpeg',dpi=300)"
      ]
    },
    {
      "cell_type": "markdown",
      "source": [
        "แยกข้อมูลเป็น Input Data(x) และ ผลเฉลย(y)"
      ],
      "metadata": {
        "id": "HkB9r0YrtByv"
      }
    },
    {
      "cell_type": "code",
      "execution_count": null,
      "metadata": {
        "colab": {
          "base_uri": "https://localhost:8080/"
        },
        "id": "wKIYcNFdySDS",
        "outputId": "c3249286-1d29-4579-8b33-874e39440b7c"
      },
      "outputs": [
        {
          "output_type": "execute_result",
          "data": {
            "text/plain": [
              "(119040, 1)"
            ]
          },
          "metadata": {},
          "execution_count": 39
        }
      ],
      "source": [
        "x=dataset['MinTemp'].values.reshape(-1,1)\n",
        "y=dataset['MaxTemp'].values.reshape(-1,1)\n",
        "\n",
        "x.shape"
      ]
    },
    {
      "cell_type": "markdown",
      "source": [
        "สุ่มแบ่งข้อมูล สำหรับเทรน 80% สำหรับเทส 20%"
      ],
      "metadata": {
        "id": "dcL1RVSqta5y"
      }
    },
    {
      "cell_type": "code",
      "execution_count": null,
      "metadata": {
        "colab": {
          "base_uri": "https://localhost:8080/"
        },
        "id": "JOROg2gNy42z",
        "outputId": "1a5e948d-6600-4978-e79b-f0120b175dba"
      },
      "outputs": [
        {
          "output_type": "execute_result",
          "data": {
            "text/plain": [
              "((95232, 1), (23808, 1), (95232, 1), (23808, 1))"
            ]
          },
          "metadata": {},
          "execution_count": 40
        }
      ],
      "source": [
        "x_train,x_test,y_train,y_test=train_test_split(x,y,test_size=0.2,shuffle=True)\n",
        "\n",
        "x_train.shape,x_test.shape,y_train.shape,y_test.shape"
      ]
    },
    {
      "cell_type": "markdown",
      "source": [
        "นิยามโมเดล เอา x_train(ข้อมูลที่จะใช้เทรน) เข้าโมเดลทีเดียวหมด 95232 แถว"
      ],
      "metadata": {
        "id": "QRs0m_S5toP-"
      }
    },
    {
      "cell_type": "code",
      "execution_count": null,
      "metadata": {
        "id": "qM2c01g7zmbC"
      },
      "outputs": [],
      "source": [
        "W=tf.Variable(tf.random.uniform([1],-1.0,1.0))\n",
        "b=tf.Variable(tf.random.uniform([1],-1.0,1.0))\n",
        "\n",
        "y = W * x_train + b"
      ]
    },
    {
      "cell_type": "markdown",
      "source": [
        "นิยาม loss function(สมการในหนังสือ)"
      ],
      "metadata": {
        "id": "y4TbWRZWuJI3"
      }
    },
    {
      "cell_type": "code",
      "execution_count": null,
      "metadata": {
        "id": "Iqf8dUqoz0gJ"
      },
      "outputs": [],
      "source": [
        "loss=tf.reduce_mean(tf.square(y-y_train))"
      ]
    },
    {
      "cell_type": "markdown",
      "source": [
        "ตั้ง optimizer เป็น Gradient Descent(GD) และตั้ง Learning Rate เป็น 0.0001"
      ],
      "metadata": {
        "id": "0dljTbWMua4l"
      }
    },
    {
      "cell_type": "code",
      "execution_count": null,
      "metadata": {
        "id": "IxpG5uliz_nq"
      },
      "outputs": [],
      "source": [
        "optimizer=tf.train.GradientDescentOptimizer(0.0001)\n",
        "\n",
        "train=optimizer.minimize(loss)"
      ]
    },
    {
      "cell_type": "markdown",
      "source": [
        "เคลียร์ Tensorflow Variable"
      ],
      "metadata": {
        "id": "c01eZWPfuwiQ"
      }
    },
    {
      "cell_type": "code",
      "execution_count": null,
      "metadata": {
        "id": "v1RG74fM0gGC"
      },
      "outputs": [],
      "source": [
        "init=tf.global_variables_initializer()"
      ]
    },
    {
      "cell_type": "markdown",
      "source": [
        "สร้างเซสชั่นเพื่อเคลียร์ค่า Variable"
      ],
      "metadata": {
        "id": "ZDuGvdoqu7VU"
      }
    },
    {
      "cell_type": "code",
      "execution_count": null,
      "metadata": {
        "id": "f7gRC7ms0ph9"
      },
      "outputs": [],
      "source": [
        "sess=tf.Session()\n",
        "sess.run(init)"
      ]
    },
    {
      "cell_type": "markdown",
      "source": [
        "# เทรนโมเดล"
      ],
      "metadata": {
        "id": "XDw0Fm8W6doG"
      }
    },
    {
      "cell_type": "markdown",
      "source": [
        "**เทรนโมเดล ด้วยเซสชั่น train [sess.run(train)]**"
      ],
      "metadata": {
        "id": "f4bUS0MNvNAc"
      }
    },
    {
      "cell_type": "code",
      "execution_count": null,
      "metadata": {
        "colab": {
          "base_uri": "https://localhost:8080/"
        },
        "id": "ttl7N7ri02Ea",
        "outputId": "4be54829-a490-46cb-b391-50f8f793faa1"
      },
      "outputs": [
        {
          "output_type": "stream",
          "name": "stdout",
          "text": [
            "0 [-0.06100547] [-0.35642722] 895.80646\n",
            "1 [0.05403034] [-0.35072905] 768.2843\n",
            "2 [0.160159] [-0.34544155] 659.74243\n",
            "3 [0.25807005] [-0.34053293] 567.35583\n",
            "4 [0.3483997] [-0.33597386] 488.71994\n",
            "5 [0.43173486] [-0.33173728] 421.78806\n",
            "6 [0.50861704] [-0.32779822] 364.81818\n",
            "7 [0.57954586] [-0.32413363] 316.32742\n",
            "8 [0.6449821] [-0.3207223] 275.05396\n",
            "9 [0.70535105] [-0.3175446] 239.92343\n",
            "10 [0.76104504] [-0.31458247] 210.0215\n",
            "11 [0.8124259] [-0.3118192] 184.57002\n",
            "12 [0.85982764] [-0.3092394] 162.9065\n",
            "13 [0.9035582] [-0.30682883] 144.4672\n",
            "14 [0.9439019] [-0.30457443] 128.77217\n",
            "15 [0.9811209] [-0.30246413] 115.413\n",
            "16 [1.015457] [-0.30048674] 104.041985\n",
            "17 [1.0471336] [-0.298632] 94.36322\n",
            "18 [1.0763564] [-0.29689038] 86.12481\n",
            "19 [1.1033155] [-0.29525316] 79.1124\n",
            "20 [1.1281861] [-0.29371223] 73.14347\n",
            "21 [1.1511298] [-0.29226014] 68.062744\n",
            "22 [1.1722959] [-0.29089004] 63.738014\n",
            "23 [1.191822] [-0.28959554] 60.05674\n",
            "24 [1.209835] [-0.28837082] 56.923172\n",
            "25 [1.2264522] [-0.28721046] 54.255753\n",
            "26 [1.2417815] [-0.2861095] 51.985146\n",
            "27 [1.2559226] [-0.28506336] 50.05227\n",
            "28 [1.2689675] [-0.28406775] 48.406837\n",
            "29 [1.2810011] [-0.28311878] 47.0061\n",
            "30 [1.2921017] [-0.28221285] 45.813602\n",
            "31 [1.3023416] [-0.28134662] 44.798378\n",
            "32 [1.3117872] [-0.280517] 43.934025\n",
            "33 [1.3205003] [-0.2797212] 43.198093\n",
            "34 [1.3285373] [-0.27895656] 42.57147\n",
            "35 [1.3359509] [-0.27822068] 42.03788\n",
            "36 [1.342789] [-0.27751136] 41.58348\n",
            "37 [1.3490964] [-0.2768265] 41.196484\n",
            "38 [1.3549141] [-0.27616423] 40.866856\n",
            "39 [1.3602799] [-0.27552283] 40.58606\n",
            "40 [1.365229] [-0.27490065] 40.34683\n",
            "41 [1.3697935] [-0.2742962] 40.14297\n",
            "42 [1.3740033] [-0.27370813] 39.969234\n",
            "43 [1.3778857] [-0.27313516] 39.821117\n",
            "44 [1.3814662] [-0.27257612] 39.69482\n",
            "45 [1.384768] [-0.27202994] 39.58709\n",
            "46 [1.3878129] [-0.27149564] 39.495163\n",
            "47 [1.3906206] [-0.27097228] 39.41669\n",
            "48 [1.3932096] [-0.27045903] 39.349663\n",
            "49 [1.3955966] [-0.26995507] 39.292385\n",
            "50 [1.3977975] [-0.26945972] 39.243404\n",
            "51 [1.3998265] [-0.2689723] 39.20149\n",
            "52 [1.4016972] [-0.26849222] 39.16557\n",
            "53 [1.4034215] [-0.2680189] 39.13477\n",
            "54 [1.405011] [-0.2675518] 39.108326\n",
            "55 [1.4064761] [-0.26709047] 39.08559\n",
            "56 [1.4078264] [-0.26663443] 39.065998\n",
            "57 [1.4090707] [-0.2661833] 39.049103\n",
            "58 [1.4102173] [-0.26573667] 39.03449\n",
            "59 [1.4112737] [-0.26529422] 39.02182\n",
            "60 [1.412247] [-0.26485562] 39.010807\n",
            "61 [1.4131434] [-0.26442057] 39.0012\n",
            "62 [1.413969] [-0.2639888] 38.992798\n",
            "63 [1.4147294] [-0.26356006] 38.985413\n",
            "64 [1.4154295] [-0.2631341] 38.978893\n",
            "65 [1.4160739] [-0.26271072] 38.97312\n",
            "66 [1.4166671] [-0.26228973] 38.967976\n",
            "67 [1.417213] [-0.26187092] 38.963367\n",
            "68 [1.4177152] [-0.26145414] 38.959213\n",
            "69 [1.4181771] [-0.26103923] 38.955444\n",
            "70 [1.4186019] [-0.26062605] 38.95201\n",
            "71 [1.4189923] [-0.26021448] 38.948856\n",
            "72 [1.4193511] [-0.25980437] 38.945942\n",
            "73 [1.4196807] [-0.25939563] 38.943233\n",
            "74 [1.4199835] [-0.25898814] 38.940693\n",
            "75 [1.4202614] [-0.25858182] 38.93831\n",
            "76 [1.4205164] [-0.25817657] 38.93604\n",
            "77 [1.4207503] [-0.2577723] 38.933887\n",
            "78 [1.4209646] [-0.25736892] 38.93182\n",
            "79 [1.4211609] [-0.2569664] 38.929832\n",
            "80 [1.4213407] [-0.25656468] 38.927914\n",
            "81 [1.4215051] [-0.25616366] 38.926044\n",
            "82 [1.4216554] [-0.2557633] 38.924225\n",
            "83 [1.4217926] [-0.25536355] 38.922447\n",
            "84 [1.4219179] [-0.25496438] 38.920708\n",
            "85 [1.422032] [-0.25456575] 38.919\n",
            "86 [1.422136] [-0.2541676] 38.91731\n",
            "87 [1.4222304] [-0.25376987] 38.915638\n",
            "88 [1.4223161] [-0.25337258] 38.913994\n",
            "89 [1.4223938] [-0.25297567] 38.91236\n",
            "90 [1.4224641] [-0.25257912] 38.91074\n",
            "91 [1.4225276] [-0.2521829] 38.909134\n",
            "92 [1.4225847] [-0.25178698] 38.907536\n",
            "93 [1.4226359] [-0.25139135] 38.90595\n",
            "94 [1.4226818] [-0.250996] 38.904366\n",
            "95 [1.4227228] [-0.25060087] 38.902786\n",
            "96 [1.4227592] [-0.25020596] 38.90122\n",
            "97 [1.4227914] [-0.24981126] 38.89965\n",
            "98 [1.4228196] [-0.24941675] 38.898083\n",
            "99 [1.4228443] [-0.24902242] 38.896526\n",
            "100 [1.4228657] [-0.24862827] 38.894966\n",
            "101 [1.4228841] [-0.24823427] 38.893414\n",
            "102 [1.4228996] [-0.24784042] 38.89186\n",
            "103 [1.4229125] [-0.2474467] 38.89031\n",
            "104 [1.422923] [-0.2470531] 38.88876\n",
            "105 [1.4229313] [-0.24665962] 38.88721\n",
            "106 [1.4229376] [-0.24626625] 38.885662\n",
            "107 [1.422942] [-0.24587297] 38.884113\n",
            "108 [1.4229447] [-0.24547979] 38.882565\n",
            "109 [1.4229457] [-0.2450867] 38.881023\n",
            "110 [1.4229453] [-0.2446937] 38.879482\n",
            "111 [1.4229435] [-0.24430077] 38.877934\n",
            "112 [1.4229404] [-0.24390791] 38.876392\n",
            "113 [1.4229362] [-0.24351512] 38.87485\n",
            "114 [1.422931] [-0.2431224] 38.873306\n",
            "115 [1.4229246] [-0.24272974] 38.871765\n",
            "116 [1.4229175] [-0.24233712] 38.870224\n",
            "117 [1.4229095] [-0.24194457] 38.868683\n",
            "118 [1.4229007] [-0.24155205] 38.86714\n",
            "119 [1.4228911] [-0.24115959] 38.8656\n",
            "120 [1.4228809] [-0.24076717] 38.86406\n",
            "121 [1.42287] [-0.24037479] 38.86252\n",
            "122 [1.4228587] [-0.23998246] 38.860977\n",
            "123 [1.4228468] [-0.23959015] 38.85944\n",
            "124 [1.4228344] [-0.2391979] 38.8579\n",
            "125 [1.4228216] [-0.23880567] 38.856358\n",
            "126 [1.4228084] [-0.23841347] 38.854816\n",
            "127 [1.4227948] [-0.2380213] 38.853275\n",
            "128 [1.4227809] [-0.23762916] 38.851738\n",
            "129 [1.4227666] [-0.23723705] 38.850204\n",
            "130 [1.422752] [-0.23684497] 38.84866\n",
            "131 [1.4227372] [-0.23645292] 38.847122\n",
            "132 [1.4227222] [-0.2360609] 38.84558\n",
            "133 [1.422707] [-0.2356689] 38.84404\n",
            "134 [1.4226915] [-0.23527692] 38.842503\n",
            "135 [1.4226757] [-0.23488498] 38.84096\n",
            "136 [1.4226599] [-0.23449305] 38.839428\n",
            "137 [1.4226438] [-0.23410115] 38.837887\n",
            "138 [1.4226276] [-0.23370926] 38.83635\n",
            "139 [1.4226112] [-0.23331739] 38.834812\n",
            "140 [1.4225948] [-0.23292555] 38.83327\n",
            "141 [1.4225782] [-0.23253372] 38.831734\n",
            "142 [1.4225615] [-0.23214191] 38.830196\n",
            "143 [1.4225447] [-0.23175013] 38.82866\n",
            "144 [1.4225278] [-0.23135836] 38.827118\n",
            "145 [1.4225107] [-0.23096661] 38.82558\n",
            "146 [1.4224937] [-0.23057488] 38.824047\n",
            "147 [1.4224765] [-0.23018315] 38.82251\n",
            "148 [1.4224592] [-0.22979146] 38.820972\n",
            "149 [1.422442] [-0.22939979] 38.819435\n",
            "150 [1.4224246] [-0.22900812] 38.817898\n",
            "151 [1.4224072] [-0.22861648] 38.816364\n",
            "152 [1.4223896] [-0.22822484] 38.814823\n",
            "153 [1.4223721] [-0.22783323] 38.813286\n",
            "154 [1.4223546] [-0.22744162] 38.81175\n",
            "155 [1.4223369] [-0.22705004] 38.81021\n",
            "156 [1.4223193] [-0.22665846] 38.80868\n",
            "157 [1.4223017] [-0.2262669] 38.80714\n",
            "158 [1.422284] [-0.22587536] 38.805603\n",
            "159 [1.4222662] [-0.22548383] 38.80407\n",
            "160 [1.4222485] [-0.22509232] 38.802536\n",
            "161 [1.4222307] [-0.22470082] 38.800995\n",
            "162 [1.422213] [-0.22430934] 38.799465\n",
            "163 [1.4221952] [-0.22391787] 38.797924\n",
            "164 [1.4221774] [-0.22352643] 38.79639\n",
            "165 [1.4221596] [-0.22313501] 38.794853\n",
            "166 [1.4221417] [-0.22274359] 38.79332\n",
            "167 [1.4221238] [-0.22235218] 38.791786\n",
            "168 [1.4221059] [-0.22196078] 38.79025\n",
            "169 [1.422088] [-0.2215694] 38.78871\n",
            "170 [1.4220701] [-0.22117804] 38.78718\n",
            "171 [1.4220523] [-0.22078669] 38.78565\n",
            "172 [1.4220344] [-0.22039536] 38.78411\n",
            "173 [1.4220165] [-0.22000404] 38.782578\n",
            "174 [1.4219985] [-0.21961273] 38.781044\n",
            "175 [1.4219805] [-0.21922144] 38.779507\n",
            "176 [1.4219625] [-0.21883017] 38.777973\n",
            "177 [1.4219445] [-0.21843891] 38.77644\n",
            "178 [1.4219265] [-0.21804766] 38.77491\n",
            "179 [1.4219085] [-0.21765643] 38.773373\n",
            "180 [1.4218905] [-0.21726522] 38.77184\n",
            "181 [1.4218725] [-0.21687402] 38.7703\n",
            "182 [1.4218545] [-0.21648283] 38.768772\n",
            "183 [1.4218365] [-0.21609166] 38.76724\n",
            "184 [1.4218185] [-0.2157005] 38.765705\n",
            "185 [1.4218005] [-0.21530937] 38.76417\n",
            "186 [1.4217825] [-0.21491824] 38.762638\n",
            "187 [1.4217645] [-0.21452713] 38.76111\n",
            "188 [1.4217465] [-0.21413603] 38.759575\n",
            "189 [1.4217285] [-0.21374495] 38.75804\n",
            "190 [1.4217105] [-0.21335389] 38.756508\n",
            "191 [1.4216925] [-0.21296282] 38.754974\n",
            "192 [1.4216745] [-0.21257177] 38.75344\n",
            "193 [1.4216565] [-0.21218073] 38.75191\n",
            "194 [1.4216385] [-0.21178971] 38.75038\n",
            "195 [1.4216205] [-0.2113987] 38.748848\n",
            "196 [1.4216025] [-0.21100771] 38.74732\n",
            "197 [1.4215845] [-0.21061674] 38.745785\n",
            "198 [1.4215665] [-0.21022578] 38.74425\n",
            "199 [1.4215485] [-0.20983483] 38.742718\n",
            "200 [1.4215305] [-0.2094439] 38.741188\n",
            "201 [1.4215125] [-0.20905298] 38.73966\n",
            "202 [1.4214945] [-0.20866208] 38.738125\n",
            "203 [1.4214765] [-0.20827119] 38.736595\n",
            "204 [1.4214585] [-0.20788032] 38.73506\n",
            "205 [1.4214405] [-0.20748946] 38.73353\n",
            "206 [1.4214225] [-0.20709862] 38.732002\n",
            "207 [1.4214045] [-0.20670779] 38.730473\n",
            "208 [1.4213865] [-0.20631698] 38.72894\n",
            "209 [1.4213685] [-0.20592618] 38.72741\n",
            "210 [1.4213505] [-0.20553538] 38.725876\n",
            "211 [1.4213325] [-0.2051446] 38.724354\n",
            "212 [1.4213145] [-0.20475383] 38.72282\n",
            "213 [1.4212965] [-0.20436308] 38.721287\n",
            "214 [1.4212785] [-0.20397234] 38.719757\n",
            "215 [1.4212605] [-0.20358162] 38.71823\n",
            "216 [1.4212425] [-0.20319091] 38.7167\n",
            "217 [1.4212245] [-0.20280021] 38.715168\n",
            "218 [1.4212065] [-0.20240954] 38.713642\n",
            "219 [1.4211885] [-0.20201887] 38.71211\n",
            "220 [1.4211705] [-0.20162822] 38.71058\n",
            "221 [1.4211525] [-0.20123759] 38.709053\n",
            "222 [1.4211345] [-0.20084697] 38.707523\n",
            "223 [1.4211165] [-0.20045637] 38.705997\n",
            "224 [1.4210985] [-0.20006578] 38.704464\n",
            "225 [1.4210805] [-0.1996752] 38.702934\n",
            "226 [1.4210625] [-0.19928464] 38.70141\n",
            "227 [1.4210445] [-0.1988941] 38.69988\n",
            "228 [1.4210265] [-0.19850355] 38.69835\n",
            "229 [1.4210085] [-0.19811302] 38.696823\n",
            "230 [1.4209905] [-0.19772251] 38.695293\n",
            "231 [1.4209725] [-0.19733201] 38.693768\n",
            "232 [1.4209545] [-0.19694152] 38.692234\n",
            "233 [1.4209365] [-0.19655105] 38.690712\n",
            "234 [1.4209185] [-0.1961606] 38.689182\n",
            "235 [1.4209005] [-0.19577016] 38.687656\n",
            "236 [1.4208825] [-0.19537973] 38.686123\n",
            "237 [1.4208645] [-0.19498932] 38.6846\n",
            "238 [1.4208465] [-0.19459893] 38.683075\n",
            "239 [1.4208285] [-0.19420855] 38.681545\n",
            "240 [1.4208105] [-0.19381818] 38.68002\n",
            "241 [1.4207925] [-0.19342783] 38.67849\n",
            "242 [1.4207745] [-0.1930375] 38.676964\n",
            "243 [1.4207565] [-0.19264717] 38.675434\n",
            "244 [1.4207385] [-0.19225685] 38.673912\n",
            "245 [1.4207205] [-0.19186655] 38.672386\n",
            "246 [1.4207025] [-0.19147626] 38.670856\n",
            "247 [1.4206845] [-0.19108598] 38.669327\n",
            "248 [1.4206665] [-0.19069572] 38.667805\n",
            "249 [1.4206485] [-0.19030547] 38.666283\n",
            "250 [1.4206305] [-0.18991524] 38.664757\n",
            "251 [1.4206125] [-0.18952502] 38.663223\n",
            "252 [1.4205945] [-0.18913482] 38.6617\n",
            "253 [1.4205765] [-0.18874463] 38.66018\n",
            "254 [1.4205585] [-0.18835446] 38.658653\n",
            "255 [1.4205405] [-0.1879643] 38.657127\n",
            "256 [1.4205225] [-0.18757416] 38.655598\n",
            "257 [1.4205045] [-0.18718404] 38.654076\n",
            "258 [1.4204865] [-0.18679392] 38.65255\n",
            "259 [1.4204684] [-0.18640383] 38.651024\n",
            "260 [1.4204504] [-0.18601373] 38.6495\n",
            "261 [1.4204324] [-0.18562365] 38.647972\n",
            "262 [1.4204144] [-0.18523358] 38.64645\n",
            "263 [1.4203964] [-0.18484353] 38.644924\n",
            "264 [1.4203784] [-0.18445349] 38.643402\n",
            "265 [1.4203604] [-0.18406346] 38.641876\n",
            "266 [1.4203424] [-0.18367346] 38.640354\n",
            "267 [1.4203244] [-0.18328346] 38.63883\n",
            "268 [1.4203064] [-0.18289348] 38.637302\n",
            "269 [1.4202884] [-0.18250352] 38.63578\n",
            "270 [1.4202704] [-0.18211357] 38.634254\n",
            "271 [1.4202524] [-0.18172364] 38.632732\n",
            "272 [1.4202344] [-0.18133372] 38.63121\n",
            "273 [1.4202164] [-0.18094382] 38.629684\n",
            "274 [1.4201986] [-0.18055393] 38.628166\n",
            "275 [1.4201806] [-0.18016405] 38.626637\n",
            "276 [1.4201626] [-0.17977418] 38.625114\n",
            "277 [1.4201447] [-0.17938432] 38.623592\n",
            "278 [1.4201267] [-0.17899448] 38.62207\n",
            "279 [1.4201087] [-0.17860465] 38.62055\n",
            "280 [1.4200907] [-0.17821483] 38.619026\n",
            "281 [1.4200728] [-0.17782503] 38.617504\n",
            "282 [1.4200548] [-0.17743525] 38.61598\n",
            "283 [1.4200368] [-0.17704548] 38.61446\n",
            "284 [1.4200189] [-0.17665572] 38.61293\n",
            "285 [1.4200009] [-0.17626598] 38.611412\n",
            "286 [1.4199829] [-0.17587626] 38.609894\n",
            "287 [1.419965] [-0.17548655] 38.608368\n",
            "288 [1.419947] [-0.17509685] 38.606846\n",
            "289 [1.419929] [-0.17470717] 38.605328\n",
            "290 [1.4199111] [-0.17431751] 38.603806\n",
            "291 [1.4198931] [-0.17392786] 38.602283\n",
            "292 [1.4198751] [-0.17353821] 38.600758\n",
            "293 [1.4198573] [-0.17314857] 38.599236\n",
            "294 [1.4198393] [-0.17275895] 38.59772\n",
            "295 [1.4198213] [-0.17236935] 38.596195\n",
            "296 [1.4198034] [-0.17197976] 38.594673\n",
            "297 [1.4197854] [-0.17159018] 38.59315\n",
            "298 [1.4197675] [-0.17120062] 38.591633\n",
            "299 [1.4197495] [-0.17081107] 38.59011\n",
            "300 [1.4197316] [-0.17042154] 38.588593\n",
            "301 [1.4197136] [-0.17003202] 38.58707\n",
            "302 [1.4196957] [-0.16964252] 38.585556\n",
            "303 [1.4196777] [-0.16925304] 38.58403\n",
            "304 [1.4196597] [-0.16886356] 38.582508\n",
            "305 [1.4196419] [-0.16847411] 38.58099\n",
            "306 [1.4196239] [-0.16808467] 38.579475\n",
            "307 [1.419606] [-0.16769524] 38.577953\n",
            "308 [1.419588] [-0.16730583] 38.576435\n",
            "309 [1.4195701] [-0.16691642] 38.574913\n",
            "310 [1.4195521] [-0.16652702] 38.573395\n",
            "311 [1.4195342] [-0.16613764] 38.571873\n",
            "312 [1.4195162] [-0.16574827] 38.57036\n",
            "313 [1.4194982] [-0.16535892] 38.568832\n",
            "314 [1.4194803] [-0.16496958] 38.567314\n",
            "315 [1.4194623] [-0.16458026] 38.565796\n",
            "316 [1.4194444] [-0.16419095] 38.56428\n",
            "317 [1.4194264] [-0.16380166] 38.562756\n",
            "318 [1.4194086] [-0.16341238] 38.56124\n",
            "319 [1.4193907] [-0.16302311] 38.559723\n",
            "320 [1.4193727] [-0.16263387] 38.55821\n",
            "321 [1.4193547] [-0.16224463] 38.556686\n",
            "322 [1.4193368] [-0.16185541] 38.555172\n",
            "323 [1.4193189] [-0.16146621] 38.55365\n",
            "324 [1.4193009] [-0.16107702] 38.55213\n",
            "325 [1.419283] [-0.16068783] 38.550613\n",
            "326 [1.4192652] [-0.16029866] 38.549095\n",
            "327 [1.4192472] [-0.1599095] 38.547577\n",
            "328 [1.4192291] [-0.15952036] 38.546062\n",
            "329 [1.4192113] [-0.15913123] 38.544544\n",
            "330 [1.4191934] [-0.15874211] 38.543026\n",
            "331 [1.4191754] [-0.15835302] 38.541508\n",
            "332 [1.4191575] [-0.15796393] 38.539993\n",
            "333 [1.4191395] [-0.15757486] 38.538475\n",
            "334 [1.4191216] [-0.15718581] 38.536957\n",
            "335 [1.4191037] [-0.15679677] 38.535442\n",
            "336 [1.4190857] [-0.15640774] 38.533928\n",
            "337 [1.4190679] [-0.15601873] 38.53241\n",
            "338 [1.41905] [-0.15562974] 38.530895\n",
            "339 [1.419032] [-0.15524076] 38.529377\n",
            "340 [1.4190141] [-0.1548518] 38.52786\n",
            "341 [1.4189961] [-0.15446284] 38.526344\n",
            "342 [1.4189782] [-0.1540739] 38.52483\n",
            "343 [1.4189603] [-0.15368496] 38.523308\n",
            "344 [1.4189425] [-0.15329604] 38.5218\n",
            "345 [1.4189245] [-0.15290713] 38.520283\n",
            "346 [1.4189066] [-0.15251824] 38.518764\n",
            "347 [1.4188886] [-0.15212937] 38.517246\n",
            "348 [1.4188707] [-0.1517405] 38.515736\n",
            "349 [1.4188528] [-0.15135166] 38.514217\n",
            "350 [1.4188348] [-0.15096283] 38.512703\n",
            "351 [1.4188169] [-0.15057401] 38.51119\n",
            "352 [1.418799] [-0.15018521] 38.509674\n",
            "353 [1.418781] [-0.14979643] 38.50816\n",
            "354 [1.4187632] [-0.14940766] 38.506645\n",
            "355 [1.4187453] [-0.1490189] 38.50513\n",
            "356 [1.4187274] [-0.14863016] 38.503616\n",
            "357 [1.4187094] [-0.14824143] 38.5021\n",
            "358 [1.4186915] [-0.1478527] 38.500587\n",
            "359 [1.4186736] [-0.14746399] 38.499077\n",
            "360 [1.4186556] [-0.1470753] 38.497562\n",
            "361 [1.4186378] [-0.14668661] 38.496044\n",
            "362 [1.4186199] [-0.14629795] 38.494534\n",
            "363 [1.418602] [-0.1459093] 38.493015\n",
            "364 [1.418584] [-0.14552066] 38.4915\n",
            "365 [1.4185661] [-0.14513204] 38.489994\n",
            "366 [1.4185482] [-0.14474343] 38.48848\n",
            "367 [1.4185303] [-0.14435484] 38.486965\n",
            "368 [1.4185125] [-0.14396626] 38.485455\n",
            "369 [1.4184945] [-0.1435777] 38.48394\n",
            "370 [1.4184766] [-0.14318915] 38.482426\n",
            "371 [1.4184587] [-0.14280061] 38.480915\n",
            "372 [1.4184408] [-0.1424121] 38.479404\n",
            "373 [1.4184229] [-0.1420236] 38.47789\n",
            "374 [1.4184049] [-0.14163509] 38.47637\n",
            "375 [1.418387] [-0.1412466] 38.47486\n",
            "376 [1.4183692] [-0.14085813] 38.47335\n",
            "377 [1.4183513] [-0.14046967] 38.47184\n",
            "378 [1.4183334] [-0.14008123] 38.47033\n",
            "379 [1.4183154] [-0.1396928] 38.468815\n",
            "380 [1.4182975] [-0.13930438] 38.467304\n",
            "381 [1.4182796] [-0.13891599] 38.465794\n",
            "382 [1.4182618] [-0.1385276] 38.464283\n",
            "383 [1.4182439] [-0.13813923] 38.462765\n",
            "384 [1.418226] [-0.13775088] 38.461258\n",
            "385 [1.4182081] [-0.13736254] 38.459747\n",
            "386 [1.4181902] [-0.13697422] 38.458233\n",
            "387 [1.4181722] [-0.1365859] 38.456722\n",
            "388 [1.4181544] [-0.13619761] 38.455215\n",
            "389 [1.4181365] [-0.13580932] 38.453697\n",
            "390 [1.4181186] [-0.13542104] 38.45219\n",
            "391 [1.4181007] [-0.13503277] 38.45068\n",
            "392 [1.4180828] [-0.13464452] 38.449173\n",
            "393 [1.418065] [-0.13425629] 38.44766\n",
            "394 [1.4180471] [-0.13386807] 38.446148\n",
            "395 [1.4180292] [-0.13347986] 38.44464\n",
            "396 [1.4180113] [-0.13309167] 38.443127\n",
            "397 [1.4179933] [-0.1327035] 38.44162\n",
            "398 [1.4179754] [-0.13231534] 38.44011\n",
            "399 [1.4179575] [-0.13192719] 38.438602\n",
            "400 [1.4179397] [-0.13153906] 38.43709\n",
            "401 [1.4179218] [-0.13115095] 38.43558\n",
            "402 [1.4179039] [-0.13076285] 38.43407\n",
            "403 [1.417886] [-0.13037476] 38.432564\n",
            "404 [1.4178681] [-0.12998669] 38.431053\n",
            "405 [1.4178503] [-0.12959862] 38.42954\n",
            "406 [1.4178324] [-0.12921056] 38.428032\n",
            "407 [1.4178145] [-0.12882252] 38.42652\n",
            "408 [1.4177966] [-0.1284345] 38.425014\n",
            "409 [1.4177787] [-0.12804648] 38.423508\n",
            "410 [1.4177608] [-0.12765849] 38.422\n",
            "411 [1.417743] [-0.1272705] 38.42049\n",
            "412 [1.4177251] [-0.12688254] 38.418983\n",
            "413 [1.4177072] [-0.12649459] 38.417473\n",
            "414 [1.4176893] [-0.12610665] 38.415962\n",
            "415 [1.4176714] [-0.12571873] 38.41446\n",
            "416 [1.4176536] [-0.12533082] 38.41295\n",
            "417 [1.4176357] [-0.12494292] 38.41144\n",
            "418 [1.4176178] [-0.12455504] 38.40993\n",
            "419 [1.4175999] [-0.12416717] 38.408424\n",
            "420 [1.417582] [-0.12377931] 38.406918\n",
            "421 [1.4175642] [-0.12339147] 38.40541\n",
            "422 [1.4175463] [-0.12300365] 38.403904\n",
            "423 [1.4175284] [-0.12261584] 38.402397\n",
            "424 [1.4175105] [-0.12222803] 38.40089\n",
            "425 [1.4174926] [-0.12184025] 38.399384\n",
            "426 [1.4174747] [-0.12145247] 38.397877\n",
            "427 [1.4174569] [-0.12106472] 38.39637\n",
            "428 [1.417439] [-0.12067697] 38.394863\n",
            "429 [1.4174211] [-0.12028924] 38.393356\n",
            "430 [1.4174032] [-0.11990153] 38.39185\n",
            "431 [1.4173853] [-0.11951382] 38.390343\n",
            "432 [1.4173675] [-0.11912613] 38.388836\n",
            "433 [1.4173496] [-0.11873846] 38.38733\n",
            "434 [1.4173317] [-0.1183508] 38.385826\n",
            "435 [1.4173138] [-0.11796315] 38.38432\n",
            "436 [1.4172959] [-0.11757552] 38.382812\n",
            "437 [1.417278] [-0.1171879] 38.3813\n",
            "438 [1.4172602] [-0.1168003] 38.3798\n",
            "439 [1.4172423] [-0.11641271] 38.378296\n",
            "440 [1.4172244] [-0.11602513] 38.37679\n",
            "441 [1.4172065] [-0.11563756] 38.37529\n",
            "442 [1.4171886] [-0.11525001] 38.373783\n",
            "443 [1.4171708] [-0.11486248] 38.372276\n",
            "444 [1.4171529] [-0.11447496] 38.370773\n",
            "445 [1.417135] [-0.11408745] 38.369263\n",
            "446 [1.4171171] [-0.11369996] 38.367764\n",
            "447 [1.4170992] [-0.11331248] 38.366257\n",
            "448 [1.4170814] [-0.11292501] 38.36475\n",
            "449 [1.4170635] [-0.11253756] 38.363247\n",
            "450 [1.4170456] [-0.11215012] 38.361744\n",
            "451 [1.4170277] [-0.1117627] 38.36024\n",
            "452 [1.4170098] [-0.11137529] 38.358734\n",
            "453 [1.416992] [-0.11098789] 38.35723\n",
            "454 [1.4169741] [-0.1106005] 38.35573\n",
            "455 [1.4169562] [-0.11021313] 38.354225\n",
            "456 [1.4169383] [-0.10982578] 38.35272\n",
            "457 [1.4169204] [-0.10943843] 38.35122\n",
            "458 [1.4169025] [-0.10905111] 38.349712\n",
            "459 [1.4168847] [-0.1086638] 38.34821\n",
            "460 [1.4168668] [-0.10827649] 38.346706\n",
            "461 [1.4168489] [-0.10788921] 38.345203\n",
            "462 [1.416831] [-0.10750193] 38.343704\n",
            "463 [1.4168131] [-0.10711467] 38.3422\n",
            "464 [1.4167953] [-0.10672743] 38.3407\n",
            "465 [1.4167774] [-0.1063402] 38.33919\n",
            "466 [1.4167595] [-0.10595298] 38.337692\n",
            "467 [1.4167416] [-0.10556577] 38.336185\n",
            "468 [1.4167237] [-0.10517858] 38.334686\n",
            "469 [1.4167058] [-0.1047914] 38.333183\n",
            "470 [1.416688] [-0.10440424] 38.33168\n",
            "471 [1.4166701] [-0.10401709] 38.330177\n",
            "472 [1.4166522] [-0.10362996] 38.32868\n",
            "473 [1.4166343] [-0.10324284] 38.327175\n",
            "474 [1.4166164] [-0.10285573] 38.325672\n",
            "475 [1.4165986] [-0.10246863] 38.324173\n",
            "476 [1.4165808] [-0.10208155] 38.32267\n",
            "477 [1.4165629] [-0.10169449] 38.321167\n",
            "478 [1.416545] [-0.10130744] 38.31967\n",
            "479 [1.4165273] [-0.1009204] 38.318165\n",
            "480 [1.4165094] [-0.10053337] 38.31667\n",
            "481 [1.4164915] [-0.10014636] 38.315166\n",
            "482 [1.4164737] [-0.09975936] 38.313667\n",
            "483 [1.4164559] [-0.09937238] 38.312164\n",
            "484 [1.4164381] [-0.09898541] 38.310665\n",
            "485 [1.4164202] [-0.09859846] 38.309162\n",
            "486 [1.4164025] [-0.09821152] 38.307663\n",
            "487 [1.4163846] [-0.0978246] 38.306164\n",
            "488 [1.4163668] [-0.09743768] 38.30466\n",
            "489 [1.4163489] [-0.09705078] 38.30316\n",
            "490 [1.416331] [-0.09666389] 38.30166\n",
            "491 [1.4163133] [-0.09627702] 38.300163\n",
            "492 [1.4162954] [-0.09589016] 38.298664\n",
            "493 [1.4162776] [-0.09550332] 38.29716\n",
            "494 [1.4162598] [-0.0951165] 38.295662\n",
            "495 [1.416242] [-0.09472968] 38.294163\n",
            "496 [1.4162241] [-0.09434287] 38.292664\n",
            "497 [1.4162064] [-0.09395608] 38.291164\n",
            "498 [1.4161885] [-0.09356931] 38.289665\n",
            "499 [1.4161707] [-0.09318255] 38.288166\n"
          ]
        }
      ],
      "source": [
        "history=[]\n",
        "wb=[]\n",
        "\n",
        "for step in range(EPOCH):\n",
        "    sess.run(train)\n",
        "    history.append(sess.run(loss))\n",
        "    print(step, sess.run(W),sess.run(b),sess.run(loss))\n",
        "    wb.append([sess.run(W)[0],sess.run(b)[0],sess.run(loss)])"
      ]
    },
    {
      "cell_type": "markdown",
      "source": [
        "# ทดสอบโมเดล"
      ],
      "metadata": {
        "id": "V9Rnfp3r6mmm"
      }
    },
    {
      "cell_type": "markdown",
      "source": [
        "เอา Weight(W) และ Bias(b) จากการเทรนโมเดล มาเก็บไว้ในตัวแปร M,C ตามลำดับ"
      ],
      "metadata": {
        "id": "gDWID-WSvSm8"
      }
    },
    {
      "cell_type": "code",
      "execution_count": null,
      "metadata": {
        "id": "nQqr6dvo1kvF"
      },
      "outputs": [],
      "source": [
        "M=sess.run(W)\n",
        "C=sess.run(b)"
      ]
    },
    {
      "cell_type": "markdown",
      "source": [
        "นิยาม Function Predict"
      ],
      "metadata": {
        "id": "EguYDyULwBuz"
      }
    },
    {
      "cell_type": "code",
      "execution_count": null,
      "metadata": {
        "id": "vRj8ww3U1svK"
      },
      "outputs": [],
      "source": [
        "def predict(X,M,C):\n",
        "  y = M*X+C\n",
        "  return y[0]"
      ]
    },
    {
      "cell_type": "markdown",
      "source": [
        "แปลงค่า loss จากการเทรนที่เป็น list มาเป็น dataframe"
      ],
      "metadata": {
        "id": "8X1sSQ3ZwNta"
      }
    },
    {
      "cell_type": "code",
      "execution_count": null,
      "metadata": {
        "id": "Bvy5GVQk2BbM"
      },
      "outputs": [],
      "source": [
        "df = pd.DataFrame(history, columns=['loss'])"
      ]
    },
    {
      "cell_type": "markdown",
      "source": [
        "พลอตกราฟค่า loss"
      ],
      "metadata": {
        "id": "b2ZD5s0iwZHz"
      }
    },
    {
      "cell_type": "code",
      "execution_count": null,
      "metadata": {
        "colab": {
          "base_uri": "https://localhost:8080/",
          "height": 542
        },
        "id": "NqcmgVZP2gW8",
        "outputId": "959a6e08-2a80-421b-dc3e-9a144f266086"
      },
      "outputs": [
        {
          "output_type": "display_data",
          "data": {
            "text/html": [
              "<html>\n",
              "<head><meta charset=\"utf-8\" /></head>\n",
              "<body>\n",
              "    <div>            <script src=\"https://cdnjs.cloudflare.com/ajax/libs/mathjax/2.7.5/MathJax.js?config=TeX-AMS-MML_SVG\"></script><script type=\"text/javascript\">if (window.MathJax && window.MathJax.Hub && window.MathJax.Hub.Config) {window.MathJax.Hub.Config({SVG: {font: \"STIX-Web\"}});}</script>                <script type=\"text/javascript\">window.PlotlyConfig = {MathJaxConfig: 'local'};</script>\n",
              "        <script charset=\"utf-8\" src=\"https://cdn.plot.ly/plotly-2.35.2.min.js\"></script>                <div id=\"5575475e-7fb8-4e04-ba1f-57537100610a\" class=\"plotly-graph-div\" style=\"height:525px; width:100%;\"></div>            <script type=\"text/javascript\">                                    window.PLOTLYENV=window.PLOTLYENV || {};                                    if (document.getElementById(\"5575475e-7fb8-4e04-ba1f-57537100610a\")) {                    Plotly.newPlot(                        \"5575475e-7fb8-4e04-ba1f-57537100610a\",                        [{\"line\":{\"color\":\"blue\",\"width\":2},\"mode\":\"lines\",\"name\":\"loss\",\"y\":[895.80646,768.2843,659.74243,567.35583,488.71994,421.78806,364.81818,316.32742,275.05396,239.92343,210.0215,184.57002,162.9065,144.4672,128.77217,115.413,104.041985,94.36322,86.12481,79.1124,73.14347,68.062744,63.738014,60.05674,56.923172,54.255753,51.985146,50.05227,48.406837,47.0061,45.813602,44.798378,43.934025,43.198093,42.57147,42.03788,41.58348,41.196484,40.866856,40.58606,40.34683,40.14297,39.969234,39.821117,39.69482,39.58709,39.495163,39.41669,39.349663,39.292385,39.243404,39.20149,39.16557,39.13477,39.108326,39.08559,39.065998,39.049103,39.03449,39.02182,39.010807,39.0012,38.992798,38.985413,38.978893,38.97312,38.967976,38.963367,38.959213,38.955444,38.95201,38.948856,38.945942,38.943233,38.940693,38.93831,38.93604,38.933887,38.93182,38.929832,38.927914,38.926044,38.924225,38.922447,38.920708,38.919,38.91731,38.915638,38.913994,38.91236,38.91074,38.909134,38.907536,38.90595,38.904366,38.902786,38.90122,38.89965,38.898083,38.896526,38.894966,38.893414,38.89186,38.89031,38.88876,38.88721,38.885662,38.884113,38.882565,38.881023,38.879482,38.877934,38.876392,38.87485,38.873306,38.871765,38.870224,38.868683,38.86714,38.8656,38.86406,38.86252,38.860977,38.85944,38.8579,38.856358,38.854816,38.853275,38.851738,38.850204,38.84866,38.847122,38.84558,38.84404,38.842503,38.84096,38.839428,38.837887,38.83635,38.834812,38.83327,38.831734,38.830196,38.82866,38.827118,38.82558,38.824047,38.82251,38.820972,38.819435,38.817898,38.816364,38.814823,38.813286,38.81175,38.81021,38.80868,38.80714,38.805603,38.80407,38.802536,38.800995,38.799465,38.797924,38.79639,38.794853,38.79332,38.791786,38.79025,38.78871,38.78718,38.78565,38.78411,38.782578,38.781044,38.779507,38.777973,38.77644,38.77491,38.773373,38.77184,38.7703,38.768772,38.76724,38.765705,38.76417,38.762638,38.76111,38.759575,38.75804,38.756508,38.754974,38.75344,38.75191,38.75038,38.748848,38.74732,38.745785,38.74425,38.742718,38.741188,38.73966,38.738125,38.736595,38.73506,38.73353,38.732002,38.730473,38.72894,38.72741,38.725876,38.724354,38.72282,38.721287,38.719757,38.71823,38.7167,38.715168,38.713642,38.71211,38.71058,38.709053,38.707523,38.705997,38.704464,38.702934,38.70141,38.69988,38.69835,38.696823,38.695293,38.693768,38.692234,38.690712,38.689182,38.687656,38.686123,38.6846,38.683075,38.681545,38.68002,38.67849,38.676964,38.675434,38.673912,38.672386,38.670856,38.669327,38.667805,38.666283,38.664757,38.663223,38.6617,38.66018,38.658653,38.657127,38.655598,38.654076,38.65255,38.651024,38.6495,38.647972,38.64645,38.644924,38.643402,38.641876,38.640354,38.63883,38.637302,38.63578,38.634254,38.632732,38.63121,38.629684,38.628166,38.626637,38.625114,38.623592,38.62207,38.62055,38.619026,38.617504,38.61598,38.61446,38.61293,38.611412,38.609894,38.608368,38.606846,38.605328,38.603806,38.602283,38.600758,38.599236,38.59772,38.596195,38.594673,38.59315,38.591633,38.59011,38.588593,38.58707,38.585556,38.58403,38.582508,38.58099,38.579475,38.577953,38.576435,38.574913,38.573395,38.571873,38.57036,38.568832,38.567314,38.565796,38.56428,38.562756,38.56124,38.559723,38.55821,38.556686,38.555172,38.55365,38.55213,38.550613,38.549095,38.547577,38.546062,38.544544,38.543026,38.541508,38.539993,38.538475,38.536957,38.535442,38.533928,38.53241,38.530895,38.529377,38.52786,38.526344,38.52483,38.523308,38.5218,38.520283,38.518764,38.517246,38.515736,38.514217,38.512703,38.51119,38.509674,38.50816,38.506645,38.50513,38.503616,38.5021,38.500587,38.499077,38.497562,38.496044,38.494534,38.493015,38.4915,38.489994,38.48848,38.486965,38.485455,38.48394,38.482426,38.480915,38.479404,38.47789,38.47637,38.47486,38.47335,38.47184,38.47033,38.468815,38.467304,38.465794,38.464283,38.462765,38.461258,38.459747,38.458233,38.456722,38.455215,38.453697,38.45219,38.45068,38.449173,38.44766,38.446148,38.44464,38.443127,38.44162,38.44011,38.438602,38.43709,38.43558,38.43407,38.432564,38.431053,38.42954,38.428032,38.42652,38.425014,38.423508,38.422,38.42049,38.418983,38.417473,38.415962,38.41446,38.41295,38.41144,38.40993,38.408424,38.406918,38.40541,38.403904,38.402397,38.40089,38.399384,38.397877,38.39637,38.394863,38.393356,38.39185,38.390343,38.388836,38.38733,38.385826,38.38432,38.382812,38.3813,38.3798,38.378296,38.37679,38.37529,38.373783,38.372276,38.370773,38.369263,38.367764,38.366257,38.36475,38.363247,38.361744,38.36024,38.358734,38.35723,38.35573,38.354225,38.35272,38.35122,38.349712,38.34821,38.346706,38.345203,38.343704,38.3422,38.3407,38.33919,38.337692,38.336185,38.334686,38.333183,38.33168,38.330177,38.32868,38.327175,38.325672,38.324173,38.32267,38.321167,38.31967,38.318165,38.31667,38.315166,38.313667,38.312164,38.310665,38.309162,38.307663,38.306164,38.30466,38.30316,38.30166,38.300163,38.298664,38.29716,38.295662,38.294163,38.292664,38.291164,38.289665,38.288166],\"type\":\"scatter\"}],                        {\"template\":{\"data\":{\"barpolar\":[{\"marker\":{\"line\":{\"color\":\"#E5ECF6\",\"width\":0.5},\"pattern\":{\"fillmode\":\"overlay\",\"size\":10,\"solidity\":0.2}},\"type\":\"barpolar\"}],\"bar\":[{\"error_x\":{\"color\":\"#2a3f5f\"},\"error_y\":{\"color\":\"#2a3f5f\"},\"marker\":{\"line\":{\"color\":\"#E5ECF6\",\"width\":0.5},\"pattern\":{\"fillmode\":\"overlay\",\"size\":10,\"solidity\":0.2}},\"type\":\"bar\"}],\"carpet\":[{\"aaxis\":{\"endlinecolor\":\"#2a3f5f\",\"gridcolor\":\"white\",\"linecolor\":\"white\",\"minorgridcolor\":\"white\",\"startlinecolor\":\"#2a3f5f\"},\"baxis\":{\"endlinecolor\":\"#2a3f5f\",\"gridcolor\":\"white\",\"linecolor\":\"white\",\"minorgridcolor\":\"white\",\"startlinecolor\":\"#2a3f5f\"},\"type\":\"carpet\"}],\"choropleth\":[{\"colorbar\":{\"outlinewidth\":0,\"ticks\":\"\"},\"type\":\"choropleth\"}],\"contourcarpet\":[{\"colorbar\":{\"outlinewidth\":0,\"ticks\":\"\"},\"type\":\"contourcarpet\"}],\"contour\":[{\"colorbar\":{\"outlinewidth\":0,\"ticks\":\"\"},\"colorscale\":[[0.0,\"#0d0887\"],[0.1111111111111111,\"#46039f\"],[0.2222222222222222,\"#7201a8\"],[0.3333333333333333,\"#9c179e\"],[0.4444444444444444,\"#bd3786\"],[0.5555555555555556,\"#d8576b\"],[0.6666666666666666,\"#ed7953\"],[0.7777777777777778,\"#fb9f3a\"],[0.8888888888888888,\"#fdca26\"],[1.0,\"#f0f921\"]],\"type\":\"contour\"}],\"heatmapgl\":[{\"colorbar\":{\"outlinewidth\":0,\"ticks\":\"\"},\"colorscale\":[[0.0,\"#0d0887\"],[0.1111111111111111,\"#46039f\"],[0.2222222222222222,\"#7201a8\"],[0.3333333333333333,\"#9c179e\"],[0.4444444444444444,\"#bd3786\"],[0.5555555555555556,\"#d8576b\"],[0.6666666666666666,\"#ed7953\"],[0.7777777777777778,\"#fb9f3a\"],[0.8888888888888888,\"#fdca26\"],[1.0,\"#f0f921\"]],\"type\":\"heatmapgl\"}],\"heatmap\":[{\"colorbar\":{\"outlinewidth\":0,\"ticks\":\"\"},\"colorscale\":[[0.0,\"#0d0887\"],[0.1111111111111111,\"#46039f\"],[0.2222222222222222,\"#7201a8\"],[0.3333333333333333,\"#9c179e\"],[0.4444444444444444,\"#bd3786\"],[0.5555555555555556,\"#d8576b\"],[0.6666666666666666,\"#ed7953\"],[0.7777777777777778,\"#fb9f3a\"],[0.8888888888888888,\"#fdca26\"],[1.0,\"#f0f921\"]],\"type\":\"heatmap\"}],\"histogram2dcontour\":[{\"colorbar\":{\"outlinewidth\":0,\"ticks\":\"\"},\"colorscale\":[[0.0,\"#0d0887\"],[0.1111111111111111,\"#46039f\"],[0.2222222222222222,\"#7201a8\"],[0.3333333333333333,\"#9c179e\"],[0.4444444444444444,\"#bd3786\"],[0.5555555555555556,\"#d8576b\"],[0.6666666666666666,\"#ed7953\"],[0.7777777777777778,\"#fb9f3a\"],[0.8888888888888888,\"#fdca26\"],[1.0,\"#f0f921\"]],\"type\":\"histogram2dcontour\"}],\"histogram2d\":[{\"colorbar\":{\"outlinewidth\":0,\"ticks\":\"\"},\"colorscale\":[[0.0,\"#0d0887\"],[0.1111111111111111,\"#46039f\"],[0.2222222222222222,\"#7201a8\"],[0.3333333333333333,\"#9c179e\"],[0.4444444444444444,\"#bd3786\"],[0.5555555555555556,\"#d8576b\"],[0.6666666666666666,\"#ed7953\"],[0.7777777777777778,\"#fb9f3a\"],[0.8888888888888888,\"#fdca26\"],[1.0,\"#f0f921\"]],\"type\":\"histogram2d\"}],\"histogram\":[{\"marker\":{\"pattern\":{\"fillmode\":\"overlay\",\"size\":10,\"solidity\":0.2}},\"type\":\"histogram\"}],\"mesh3d\":[{\"colorbar\":{\"outlinewidth\":0,\"ticks\":\"\"},\"type\":\"mesh3d\"}],\"parcoords\":[{\"line\":{\"colorbar\":{\"outlinewidth\":0,\"ticks\":\"\"}},\"type\":\"parcoords\"}],\"pie\":[{\"automargin\":true,\"type\":\"pie\"}],\"scatter3d\":[{\"line\":{\"colorbar\":{\"outlinewidth\":0,\"ticks\":\"\"}},\"marker\":{\"colorbar\":{\"outlinewidth\":0,\"ticks\":\"\"}},\"type\":\"scatter3d\"}],\"scattercarpet\":[{\"marker\":{\"colorbar\":{\"outlinewidth\":0,\"ticks\":\"\"}},\"type\":\"scattercarpet\"}],\"scattergeo\":[{\"marker\":{\"colorbar\":{\"outlinewidth\":0,\"ticks\":\"\"}},\"type\":\"scattergeo\"}],\"scattergl\":[{\"marker\":{\"colorbar\":{\"outlinewidth\":0,\"ticks\":\"\"}},\"type\":\"scattergl\"}],\"scattermapbox\":[{\"marker\":{\"colorbar\":{\"outlinewidth\":0,\"ticks\":\"\"}},\"type\":\"scattermapbox\"}],\"scatterpolargl\":[{\"marker\":{\"colorbar\":{\"outlinewidth\":0,\"ticks\":\"\"}},\"type\":\"scatterpolargl\"}],\"scatterpolar\":[{\"marker\":{\"colorbar\":{\"outlinewidth\":0,\"ticks\":\"\"}},\"type\":\"scatterpolar\"}],\"scatter\":[{\"fillpattern\":{\"fillmode\":\"overlay\",\"size\":10,\"solidity\":0.2},\"type\":\"scatter\"}],\"scatterternary\":[{\"marker\":{\"colorbar\":{\"outlinewidth\":0,\"ticks\":\"\"}},\"type\":\"scatterternary\"}],\"surface\":[{\"colorbar\":{\"outlinewidth\":0,\"ticks\":\"\"},\"colorscale\":[[0.0,\"#0d0887\"],[0.1111111111111111,\"#46039f\"],[0.2222222222222222,\"#7201a8\"],[0.3333333333333333,\"#9c179e\"],[0.4444444444444444,\"#bd3786\"],[0.5555555555555556,\"#d8576b\"],[0.6666666666666666,\"#ed7953\"],[0.7777777777777778,\"#fb9f3a\"],[0.8888888888888888,\"#fdca26\"],[1.0,\"#f0f921\"]],\"type\":\"surface\"}],\"table\":[{\"cells\":{\"fill\":{\"color\":\"#EBF0F8\"},\"line\":{\"color\":\"white\"}},\"header\":{\"fill\":{\"color\":\"#C8D4E3\"},\"line\":{\"color\":\"white\"}},\"type\":\"table\"}]},\"layout\":{\"annotationdefaults\":{\"arrowcolor\":\"#2a3f5f\",\"arrowhead\":0,\"arrowwidth\":1},\"autotypenumbers\":\"strict\",\"coloraxis\":{\"colorbar\":{\"outlinewidth\":0,\"ticks\":\"\"}},\"colorscale\":{\"diverging\":[[0,\"#8e0152\"],[0.1,\"#c51b7d\"],[0.2,\"#de77ae\"],[0.3,\"#f1b6da\"],[0.4,\"#fde0ef\"],[0.5,\"#f7f7f7\"],[0.6,\"#e6f5d0\"],[0.7,\"#b8e186\"],[0.8,\"#7fbc41\"],[0.9,\"#4d9221\"],[1,\"#276419\"]],\"sequential\":[[0.0,\"#0d0887\"],[0.1111111111111111,\"#46039f\"],[0.2222222222222222,\"#7201a8\"],[0.3333333333333333,\"#9c179e\"],[0.4444444444444444,\"#bd3786\"],[0.5555555555555556,\"#d8576b\"],[0.6666666666666666,\"#ed7953\"],[0.7777777777777778,\"#fb9f3a\"],[0.8888888888888888,\"#fdca26\"],[1.0,\"#f0f921\"]],\"sequentialminus\":[[0.0,\"#0d0887\"],[0.1111111111111111,\"#46039f\"],[0.2222222222222222,\"#7201a8\"],[0.3333333333333333,\"#9c179e\"],[0.4444444444444444,\"#bd3786\"],[0.5555555555555556,\"#d8576b\"],[0.6666666666666666,\"#ed7953\"],[0.7777777777777778,\"#fb9f3a\"],[0.8888888888888888,\"#fdca26\"],[1.0,\"#f0f921\"]]},\"colorway\":[\"#636efa\",\"#EF553B\",\"#00cc96\",\"#ab63fa\",\"#FFA15A\",\"#19d3f3\",\"#FF6692\",\"#B6E880\",\"#FF97FF\",\"#FECB52\"],\"font\":{\"color\":\"#2a3f5f\"},\"geo\":{\"bgcolor\":\"white\",\"lakecolor\":\"white\",\"landcolor\":\"#E5ECF6\",\"showlakes\":true,\"showland\":true,\"subunitcolor\":\"white\"},\"hoverlabel\":{\"align\":\"left\"},\"hovermode\":\"closest\",\"mapbox\":{\"style\":\"light\"},\"paper_bgcolor\":\"white\",\"plot_bgcolor\":\"#E5ECF6\",\"polar\":{\"angularaxis\":{\"gridcolor\":\"white\",\"linecolor\":\"white\",\"ticks\":\"\"},\"bgcolor\":\"#E5ECF6\",\"radialaxis\":{\"gridcolor\":\"white\",\"linecolor\":\"white\",\"ticks\":\"\"}},\"scene\":{\"xaxis\":{\"backgroundcolor\":\"#E5ECF6\",\"gridcolor\":\"white\",\"gridwidth\":2,\"linecolor\":\"white\",\"showbackground\":true,\"ticks\":\"\",\"zerolinecolor\":\"white\"},\"yaxis\":{\"backgroundcolor\":\"#E5ECF6\",\"gridcolor\":\"white\",\"gridwidth\":2,\"linecolor\":\"white\",\"showbackground\":true,\"ticks\":\"\",\"zerolinecolor\":\"white\"},\"zaxis\":{\"backgroundcolor\":\"#E5ECF6\",\"gridcolor\":\"white\",\"gridwidth\":2,\"linecolor\":\"white\",\"showbackground\":true,\"ticks\":\"\",\"zerolinecolor\":\"white\"}},\"shapedefaults\":{\"line\":{\"color\":\"#2a3f5f\"}},\"ternary\":{\"aaxis\":{\"gridcolor\":\"white\",\"linecolor\":\"white\",\"ticks\":\"\"},\"baxis\":{\"gridcolor\":\"white\",\"linecolor\":\"white\",\"ticks\":\"\"},\"bgcolor\":\"#E5ECF6\",\"caxis\":{\"gridcolor\":\"white\",\"linecolor\":\"white\",\"ticks\":\"\"}},\"title\":{\"x\":0.05},\"xaxis\":{\"automargin\":true,\"gridcolor\":\"white\",\"linecolor\":\"white\",\"ticks\":\"\",\"title\":{\"standoff\":15},\"zerolinecolor\":\"white\",\"zerolinewidth\":2},\"yaxis\":{\"automargin\":true,\"gridcolor\":\"white\",\"linecolor\":\"white\",\"ticks\":\"\",\"title\":{\"standoff\":15},\"zerolinecolor\":\"white\",\"zerolinewidth\":2}}},\"title\":{\"text\":\"Loss\"},\"xaxis\":{\"title\":{\"text\":\"Epochs\"}},\"yaxis\":{\"title\":{\"text\":\"\"}}},                        {\"responsive\": true}                    ).then(function(){\n",
              "                            \n",
              "var gd = document.getElementById('5575475e-7fb8-4e04-ba1f-57537100610a');\n",
              "var x = new MutationObserver(function (mutations, observer) {{\n",
              "        var display = window.getComputedStyle(gd).display;\n",
              "        if (!display || display === 'none') {{\n",
              "            console.log([gd, 'removed!']);\n",
              "            Plotly.purge(gd);\n",
              "            observer.disconnect();\n",
              "        }}\n",
              "}});\n",
              "\n",
              "// Listen for the removal of the full notebook cells\n",
              "var notebookContainer = gd.closest('#notebook-container');\n",
              "if (notebookContainer) {{\n",
              "    x.observe(notebookContainer, {childList: true});\n",
              "}}\n",
              "\n",
              "// Listen for the clearing of the current output cell\n",
              "var outputEl = gd.closest('.output');\n",
              "if (outputEl) {{\n",
              "    x.observe(outputEl, {childList: true});\n",
              "}}\n",
              "\n",
              "                        })                };                            </script>        </div>\n",
              "</body>\n",
              "</html>"
            ]
          },
          "metadata": {}
        }
      ],
      "source": [
        "h1=go.Scatter(y=df['loss'],\n",
        "                    mode=\"lines\",\n",
        "                    line=dict(\n",
        "                    \twidth=2,\n",
        "                    \tcolor='blue'),\n",
        "                    name=\"loss\")\n",
        "\n",
        "data=[h1]\n",
        "\n",
        "layout1=go.Layout(title='Loss',\n",
        "                   xaxis=dict(title='Epochs'),\n",
        "                   yaxis=dict(title=''))\n",
        "fig1=go.Figure(data, layout=layout1)\n",
        "plotly.offline.iplot(fig1)"
      ]
    },
    {
      "cell_type": "markdown",
      "source": [
        "ให้โมเดลที่สร้างทำนายผล MaxTemp"
      ],
      "metadata": {
        "id": "QFLkFZZswjPm"
      }
    },
    {
      "cell_type": "code",
      "execution_count": null,
      "metadata": {
        "colab": {
          "base_uri": "https://localhost:8080/"
        },
        "id": "w6bEKGqz2yQD",
        "outputId": "aaef1002-072f-473d-f9e4-c3d44b385b5f"
      },
      "outputs": [
        {
          "output_type": "execute_result",
          "data": {
            "text/plain": [
              "(23808, 1)"
            ]
          },
          "metadata": {},
          "execution_count": 51
        }
      ],
      "source": [
        "y_pred=[predict(i, M, C) for i in x_test]\n",
        "\n",
        "y_test.shape"
      ]
    },
    {
      "cell_type": "code",
      "execution_count": null,
      "metadata": {
        "colab": {
          "base_uri": "https://localhost:8080/"
        },
        "id": "b2nFlblb3Q01",
        "outputId": "1d1cfc00-03e2-42e9-c6b0-15d94d948fce"
      },
      "outputs": [
        {
          "output_type": "execute_result",
          "data": {
            "text/plain": [
              "(23808,)"
            ]
          },
          "metadata": {},
          "execution_count": 52
        }
      ],
      "source": [
        "y_test=y_test.reshape(-1)\n",
        "y_test.shape"
      ]
    },
    {
      "cell_type": "markdown",
      "source": [
        "แสดงผลการทำนาย"
      ],
      "metadata": {
        "id": "J_f05q-XwtFg"
      }
    },
    {
      "cell_type": "code",
      "execution_count": null,
      "metadata": {
        "colab": {
          "base_uri": "https://localhost:8080/",
          "height": 363
        },
        "id": "-EW5F70v3dP6",
        "outputId": "7b004169-31ef-4d98-b4d8-2df3377fff85"
      },
      "outputs": [
        {
          "output_type": "execute_result",
          "data": {
            "text/plain": [
              "      Actual  Predicted\n",
              "0  17.777778  15.642048\n",
              "1  28.333333  24.296424\n",
              "2  30.555556  32.164039\n",
              "3  32.222222  29.803755\n",
              "4  16.666667   3.840625\n",
              "5  30.555556  36.097847\n",
              "6  28.888889  30.590516\n",
              "7  30.555556  32.164039\n",
              "8  28.888889  33.737562\n",
              "9  21.666667  25.083186"
            ],
            "text/html": [
              "\n",
              "  <div id=\"df-e3f5788f-9871-44d9-9a04-6290ccaa79b4\" class=\"colab-df-container\">\n",
              "    <div>\n",
              "<style scoped>\n",
              "    .dataframe tbody tr th:only-of-type {\n",
              "        vertical-align: middle;\n",
              "    }\n",
              "\n",
              "    .dataframe tbody tr th {\n",
              "        vertical-align: top;\n",
              "    }\n",
              "\n",
              "    .dataframe thead th {\n",
              "        text-align: right;\n",
              "    }\n",
              "</style>\n",
              "<table border=\"1\" class=\"dataframe\">\n",
              "  <thead>\n",
              "    <tr style=\"text-align: right;\">\n",
              "      <th></th>\n",
              "      <th>Actual</th>\n",
              "      <th>Predicted</th>\n",
              "    </tr>\n",
              "  </thead>\n",
              "  <tbody>\n",
              "    <tr>\n",
              "      <th>0</th>\n",
              "      <td>17.777778</td>\n",
              "      <td>15.642048</td>\n",
              "    </tr>\n",
              "    <tr>\n",
              "      <th>1</th>\n",
              "      <td>28.333333</td>\n",
              "      <td>24.296424</td>\n",
              "    </tr>\n",
              "    <tr>\n",
              "      <th>2</th>\n",
              "      <td>30.555556</td>\n",
              "      <td>32.164039</td>\n",
              "    </tr>\n",
              "    <tr>\n",
              "      <th>3</th>\n",
              "      <td>32.222222</td>\n",
              "      <td>29.803755</td>\n",
              "    </tr>\n",
              "    <tr>\n",
              "      <th>4</th>\n",
              "      <td>16.666667</td>\n",
              "      <td>3.840625</td>\n",
              "    </tr>\n",
              "    <tr>\n",
              "      <th>5</th>\n",
              "      <td>30.555556</td>\n",
              "      <td>36.097847</td>\n",
              "    </tr>\n",
              "    <tr>\n",
              "      <th>6</th>\n",
              "      <td>28.888889</td>\n",
              "      <td>30.590516</td>\n",
              "    </tr>\n",
              "    <tr>\n",
              "      <th>7</th>\n",
              "      <td>30.555556</td>\n",
              "      <td>32.164039</td>\n",
              "    </tr>\n",
              "    <tr>\n",
              "      <th>8</th>\n",
              "      <td>28.888889</td>\n",
              "      <td>33.737562</td>\n",
              "    </tr>\n",
              "    <tr>\n",
              "      <th>9</th>\n",
              "      <td>21.666667</td>\n",
              "      <td>25.083186</td>\n",
              "    </tr>\n",
              "  </tbody>\n",
              "</table>\n",
              "</div>\n",
              "    <div class=\"colab-df-buttons\">\n",
              "\n",
              "  <div class=\"colab-df-container\">\n",
              "    <button class=\"colab-df-convert\" onclick=\"convertToInteractive('df-e3f5788f-9871-44d9-9a04-6290ccaa79b4')\"\n",
              "            title=\"Convert this dataframe to an interactive table.\"\n",
              "            style=\"display:none;\">\n",
              "\n",
              "  <svg xmlns=\"http://www.w3.org/2000/svg\" height=\"24px\" viewBox=\"0 -960 960 960\">\n",
              "    <path d=\"M120-120v-720h720v720H120Zm60-500h600v-160H180v160Zm220 220h160v-160H400v160Zm0 220h160v-160H400v160ZM180-400h160v-160H180v160Zm440 0h160v-160H620v160ZM180-180h160v-160H180v160Zm440 0h160v-160H620v160Z\"/>\n",
              "  </svg>\n",
              "    </button>\n",
              "\n",
              "  <style>\n",
              "    .colab-df-container {\n",
              "      display:flex;\n",
              "      gap: 12px;\n",
              "    }\n",
              "\n",
              "    .colab-df-convert {\n",
              "      background-color: #E8F0FE;\n",
              "      border: none;\n",
              "      border-radius: 50%;\n",
              "      cursor: pointer;\n",
              "      display: none;\n",
              "      fill: #1967D2;\n",
              "      height: 32px;\n",
              "      padding: 0 0 0 0;\n",
              "      width: 32px;\n",
              "    }\n",
              "\n",
              "    .colab-df-convert:hover {\n",
              "      background-color: #E2EBFA;\n",
              "      box-shadow: 0px 1px 2px rgba(60, 64, 67, 0.3), 0px 1px 3px 1px rgba(60, 64, 67, 0.15);\n",
              "      fill: #174EA6;\n",
              "    }\n",
              "\n",
              "    .colab-df-buttons div {\n",
              "      margin-bottom: 4px;\n",
              "    }\n",
              "\n",
              "    [theme=dark] .colab-df-convert {\n",
              "      background-color: #3B4455;\n",
              "      fill: #D2E3FC;\n",
              "    }\n",
              "\n",
              "    [theme=dark] .colab-df-convert:hover {\n",
              "      background-color: #434B5C;\n",
              "      box-shadow: 0px 1px 3px 1px rgba(0, 0, 0, 0.15);\n",
              "      filter: drop-shadow(0px 1px 2px rgba(0, 0, 0, 0.3));\n",
              "      fill: #FFFFFF;\n",
              "    }\n",
              "  </style>\n",
              "\n",
              "    <script>\n",
              "      const buttonEl =\n",
              "        document.querySelector('#df-e3f5788f-9871-44d9-9a04-6290ccaa79b4 button.colab-df-convert');\n",
              "      buttonEl.style.display =\n",
              "        google.colab.kernel.accessAllowed ? 'block' : 'none';\n",
              "\n",
              "      async function convertToInteractive(key) {\n",
              "        const element = document.querySelector('#df-e3f5788f-9871-44d9-9a04-6290ccaa79b4');\n",
              "        const dataTable =\n",
              "          await google.colab.kernel.invokeFunction('convertToInteractive',\n",
              "                                                    [key], {});\n",
              "        if (!dataTable) return;\n",
              "\n",
              "        const docLinkHtml = 'Like what you see? Visit the ' +\n",
              "          '<a target=\"_blank\" href=https://colab.research.google.com/notebooks/data_table.ipynb>data table notebook</a>'\n",
              "          + ' to learn more about interactive tables.';\n",
              "        element.innerHTML = '';\n",
              "        dataTable['output_type'] = 'display_data';\n",
              "        await google.colab.output.renderOutput(dataTable, element);\n",
              "        const docLink = document.createElement('div');\n",
              "        docLink.innerHTML = docLinkHtml;\n",
              "        element.appendChild(docLink);\n",
              "      }\n",
              "    </script>\n",
              "  </div>\n",
              "\n",
              "\n",
              "<div id=\"df-a25a4d66-3b0f-4c20-9c36-927a2db1f005\">\n",
              "  <button class=\"colab-df-quickchart\" onclick=\"quickchart('df-a25a4d66-3b0f-4c20-9c36-927a2db1f005')\"\n",
              "            title=\"Suggest charts\"\n",
              "            style=\"display:none;\">\n",
              "\n",
              "<svg xmlns=\"http://www.w3.org/2000/svg\" height=\"24px\"viewBox=\"0 0 24 24\"\n",
              "     width=\"24px\">\n",
              "    <g>\n",
              "        <path d=\"M19 3H5c-1.1 0-2 .9-2 2v14c0 1.1.9 2 2 2h14c1.1 0 2-.9 2-2V5c0-1.1-.9-2-2-2zM9 17H7v-7h2v7zm4 0h-2V7h2v10zm4 0h-2v-4h2v4z\"/>\n",
              "    </g>\n",
              "</svg>\n",
              "  </button>\n",
              "\n",
              "<style>\n",
              "  .colab-df-quickchart {\n",
              "      --bg-color: #E8F0FE;\n",
              "      --fill-color: #1967D2;\n",
              "      --hover-bg-color: #E2EBFA;\n",
              "      --hover-fill-color: #174EA6;\n",
              "      --disabled-fill-color: #AAA;\n",
              "      --disabled-bg-color: #DDD;\n",
              "  }\n",
              "\n",
              "  [theme=dark] .colab-df-quickchart {\n",
              "      --bg-color: #3B4455;\n",
              "      --fill-color: #D2E3FC;\n",
              "      --hover-bg-color: #434B5C;\n",
              "      --hover-fill-color: #FFFFFF;\n",
              "      --disabled-bg-color: #3B4455;\n",
              "      --disabled-fill-color: #666;\n",
              "  }\n",
              "\n",
              "  .colab-df-quickchart {\n",
              "    background-color: var(--bg-color);\n",
              "    border: none;\n",
              "    border-radius: 50%;\n",
              "    cursor: pointer;\n",
              "    display: none;\n",
              "    fill: var(--fill-color);\n",
              "    height: 32px;\n",
              "    padding: 0;\n",
              "    width: 32px;\n",
              "  }\n",
              "\n",
              "  .colab-df-quickchart:hover {\n",
              "    background-color: var(--hover-bg-color);\n",
              "    box-shadow: 0 1px 2px rgba(60, 64, 67, 0.3), 0 1px 3px 1px rgba(60, 64, 67, 0.15);\n",
              "    fill: var(--button-hover-fill-color);\n",
              "  }\n",
              "\n",
              "  .colab-df-quickchart-complete:disabled,\n",
              "  .colab-df-quickchart-complete:disabled:hover {\n",
              "    background-color: var(--disabled-bg-color);\n",
              "    fill: var(--disabled-fill-color);\n",
              "    box-shadow: none;\n",
              "  }\n",
              "\n",
              "  .colab-df-spinner {\n",
              "    border: 2px solid var(--fill-color);\n",
              "    border-color: transparent;\n",
              "    border-bottom-color: var(--fill-color);\n",
              "    animation:\n",
              "      spin 1s steps(1) infinite;\n",
              "  }\n",
              "\n",
              "  @keyframes spin {\n",
              "    0% {\n",
              "      border-color: transparent;\n",
              "      border-bottom-color: var(--fill-color);\n",
              "      border-left-color: var(--fill-color);\n",
              "    }\n",
              "    20% {\n",
              "      border-color: transparent;\n",
              "      border-left-color: var(--fill-color);\n",
              "      border-top-color: var(--fill-color);\n",
              "    }\n",
              "    30% {\n",
              "      border-color: transparent;\n",
              "      border-left-color: var(--fill-color);\n",
              "      border-top-color: var(--fill-color);\n",
              "      border-right-color: var(--fill-color);\n",
              "    }\n",
              "    40% {\n",
              "      border-color: transparent;\n",
              "      border-right-color: var(--fill-color);\n",
              "      border-top-color: var(--fill-color);\n",
              "    }\n",
              "    60% {\n",
              "      border-color: transparent;\n",
              "      border-right-color: var(--fill-color);\n",
              "    }\n",
              "    80% {\n",
              "      border-color: transparent;\n",
              "      border-right-color: var(--fill-color);\n",
              "      border-bottom-color: var(--fill-color);\n",
              "    }\n",
              "    90% {\n",
              "      border-color: transparent;\n",
              "      border-bottom-color: var(--fill-color);\n",
              "    }\n",
              "  }\n",
              "</style>\n",
              "\n",
              "  <script>\n",
              "    async function quickchart(key) {\n",
              "      const quickchartButtonEl =\n",
              "        document.querySelector('#' + key + ' button');\n",
              "      quickchartButtonEl.disabled = true;  // To prevent multiple clicks.\n",
              "      quickchartButtonEl.classList.add('colab-df-spinner');\n",
              "      try {\n",
              "        const charts = await google.colab.kernel.invokeFunction(\n",
              "            'suggestCharts', [key], {});\n",
              "      } catch (error) {\n",
              "        console.error('Error during call to suggestCharts:', error);\n",
              "      }\n",
              "      quickchartButtonEl.classList.remove('colab-df-spinner');\n",
              "      quickchartButtonEl.classList.add('colab-df-quickchart-complete');\n",
              "    }\n",
              "    (() => {\n",
              "      let quickchartButtonEl =\n",
              "        document.querySelector('#df-a25a4d66-3b0f-4c20-9c36-927a2db1f005 button');\n",
              "      quickchartButtonEl.style.display =\n",
              "        google.colab.kernel.accessAllowed ? 'block' : 'none';\n",
              "    })();\n",
              "  </script>\n",
              "</div>\n",
              "\n",
              "    </div>\n",
              "  </div>\n"
            ],
            "application/vnd.google.colaboratory.intrinsic+json": {
              "type": "dataframe",
              "variable_name": "df",
              "summary": "{\n  \"name\": \"df\",\n  \"rows\": 23808,\n  \"fields\": [\n    {\n      \"column\": \"Actual\",\n      \"properties\": {\n        \"dtype\": \"number\",\n        \"std\": 8.709651402272764,\n        \"min\": -32.22222222,\n        \"max\": 48.88888889,\n        \"num_unique_values\": 135,\n        \"samples\": [\n          47.22222222,\n          -2.777777778,\n          -23.33333333\n        ],\n        \"semantic_type\": \"\",\n        \"description\": \"\"\n      }\n    },\n    {\n      \"column\": \"Predicted\",\n      \"properties\": {\n        \"dtype\": \"number\",\n        \"std\": 11.81734082074014,\n        \"min\": -53.59296516726539,\n        \"max\": 48.68603100577741,\n        \"num_unique_values\": 116,\n        \"samples\": [\n          -7.174036130309105,\n          3.8406249966721986,\n          34.52432384292036\n        ],\n        \"semantic_type\": \"\",\n        \"description\": \"\"\n      }\n    }\n  ]\n}"
            }
          },
          "metadata": {},
          "execution_count": 53
        }
      ],
      "source": [
        "df=pd.DataFrame({'Actual':y_test,'Predicted':y_pred})\n",
        "df.head(10)"
      ]
    },
    {
      "cell_type": "markdown",
      "source": [
        "พล็อตกราฟเปรียบเทียบค่าที่โมเดลทำนายกับค่าจริง"
      ],
      "metadata": {
        "id": "SlhDd58ww23p"
      }
    },
    {
      "cell_type": "code",
      "execution_count": null,
      "metadata": {
        "colab": {
          "base_uri": "https://localhost:8080/",
          "height": 845
        },
        "id": "IHPc9QVq380N",
        "outputId": "d1afed7e-8e85-4784-82ed-0786adebb2ec"
      },
      "outputs": [
        {
          "output_type": "display_data",
          "data": {
            "text/plain": [
              "<Figure size 1500x1000 with 1 Axes>"
            ],
            "image/png": "[encoded data removed]"
          },
          "metadata": {}
        }
      ],
      "source": [
        "df1=df.head(10)\n",
        "df1.plot(kind='bar',figsize=(15,10))\n",
        "plt.grid(which='major', linestyle='-', linewidth='0.5', color='green')\n",
        "plt.grid(which='minor', linestyle=':', linewidth='0.5', color='black')\n",
        "plt.savefig('actual-predict.jpeg',dpi=300)"
      ]
    },
    {
      "cell_type": "markdown",
      "source": [
        "แสดงโมเดลที่ถูกเทรนใน Epoch แรก"
      ],
      "metadata": {
        "id": "ARKjVyqoxO5r"
      }
    },
    {
      "cell_type": "code",
      "execution_count": null,
      "metadata": {
        "colab": {
          "base_uri": "https://localhost:8080/",
          "height": 430
        },
        "id": "f4KraMxL4dZ3",
        "outputId": "3f397a8e-2d4d-4774-a31f-4a0bec6d0235"
      },
      "outputs": [
        {
          "output_type": "display_data",
          "data": {
            "text/plain": [
              "<Figure size 640x480 with 1 Axes>"
            ],
            "image/png": "[encoded data removed]"
          },
          "metadata": {}
        }
      ],
      "source": [
        "M=[i[0] for i in wb]\n",
        "L=[i[2] for i in wb]\n",
        "C=[i[1] for i in wb]\n",
        "y_pred=[predict(i, M[0], C[0]) for i in x_test]\n",
        "\n",
        "plt.scatter(x_test,y_test,color='gray')\n",
        "plt.plot(x_test,y_pred,color='red',linewidth=2)\n",
        "plt.savefig('min_max_temp1.jpeg',dpi=300)"
      ]
    },
    {
      "cell_type": "markdown",
      "source": [
        "แสดงโมเดลที่ถูกเทรนใน Epoch ที่ 5"
      ],
      "metadata": {
        "id": "5zrsaIkaxlSt"
      }
    },
    {
      "cell_type": "code",
      "execution_count": null,
      "metadata": {
        "colab": {
          "base_uri": "https://localhost:8080/",
          "height": 430
        },
        "id": "dOODAX0y54R6",
        "outputId": "c1778081-ab23-4eca-f4e3-4052cc5aef8d"
      },
      "outputs": [
        {
          "output_type": "display_data",
          "data": {
            "text/plain": [
              "<Figure size 640x480 with 1 Axes>"
            ],
            "image/png": "[encoded data removed]"
          },
          "metadata": {}
        }
      ],
      "source": [
        "y_pred=[predict(i, M[4], C[4]) for i in x_test]\n",
        "\n",
        "plt.scatter(x_test,y_test,color='gray')\n",
        "plt.plot(x_test,y_pred,color='red',linewidth=2)\n",
        "plt.savefig('min_max_temp1.jpeg',dpi=300)"
      ]
    },
    {
      "cell_type": "markdown",
      "source": [
        "แสดงโมเดลที่ถูกเทรนใน Epoch ที่ 10"
      ],
      "metadata": {
        "id": "k3AEb-pzxnyh"
      }
    },
    {
      "cell_type": "code",
      "execution_count": null,
      "metadata": {
        "colab": {
          "base_uri": "https://localhost:8080/",
          "height": 430
        },
        "id": "HCJMZyT87arl",
        "outputId": "46a94078-33a0-41ff-e656-01d6e02fd0ad"
      },
      "outputs": [
        {
          "output_type": "display_data",
          "data": {
            "text/plain": [
              "<Figure size 640x480 with 1 Axes>"
            ],
            "image/png": "[encoded data removed]"
          },
          "metadata": {}
        }
      ],
      "source": [
        "y_pred=[predict(i, M[9], C[9]) for i in x_test]\n",
        "\n",
        "plt.scatter(x_test,y_test,color='gray')\n",
        "plt.plot(x_test,y_pred,color='red',linewidth=2)\n",
        "plt.savefig('min_max_temp1.jpeg',dpi=300)"
      ]
    },
    {
      "cell_type": "markdown",
      "source": [
        "แสดงโมเดลที่ถูกเทรนใน Epoch สุดท้าย"
      ],
      "metadata": {
        "id": "pIPrM3rkxppu"
      }
    },
    {
      "cell_type": "code",
      "execution_count": null,
      "metadata": {
        "colab": {
          "base_uri": "https://localhost:8080/",
          "height": 430
        },
        "id": "BA6BWh8V7wEW",
        "outputId": "018d1917-5a78-4128-9a38-ca9fbda8a511"
      },
      "outputs": [
        {
          "output_type": "display_data",
          "data": {
            "text/plain": [
              "<Figure size 640x480 with 1 Axes>"
            ],
            "image/png": "[encoded data removed]"
          },
          "metadata": {}
        }
      ],
      "source": [
        "y_pred=[predict(i, M[499], C[499]) for i in x_test]\n",
        "\n",
        "plt.scatter(x_test,y_test,color='gray')\n",
        "plt.plot(x_test,y_pred,color='red',linewidth=2)\n",
        "plt.savefig('min_max_temp1.jpeg',dpi=300)"
      ]
    },
    {
      "cell_type": "markdown",
      "source": [
        "ดูค่า loss เทียบกับค่า Weight"
      ],
      "metadata": {
        "id": "z8lIl2m1xwTy"
      }
    },
    {
      "cell_type": "code",
      "execution_count": null,
      "metadata": {
        "colab": {
          "base_uri": "https://localhost:8080/",
          "height": 430
        },
        "id": "zDyK6cbf8M2k",
        "outputId": "fec26a2e-c2f0-49b0-beda-73d6b3d4e973"
      },
      "outputs": [
        {
          "output_type": "display_data",
          "data": {
            "text/plain": [
              "<Figure size 640x480 with 1 Axes>"
            ],
            "image/png": "[encoded data removed]"
          },
          "metadata": {}
        }
      ],
      "source": [
        "plt.scatter(M, L,color='gray')\n",
        "plt.savefig('weight.jpeg',dpi=300)"
      ]
    },
    {
      "cell_type": "markdown",
      "source": [
        "ดูค่า loss เทียบกับค่า Bias"
      ],
      "metadata": {
        "id": "b6WN8Iafx9xf"
      }
    },
    {
      "cell_type": "code",
      "execution_count": null,
      "metadata": {
        "colab": {
          "base_uri": "https://localhost:8080/",
          "height": 430
        },
        "id": "VaRB4iMF8pQA",
        "outputId": "d7969bdb-927b-4fb8-b9e4-7c363d2e63cf"
      },
      "outputs": [
        {
          "output_type": "display_data",
          "data": {
            "text/plain": [
              "<Figure size 640x480 with 1 Axes>"
            ],
            "image/png": "[encoded data removed]"
          },
          "metadata": {}
        }
      ],
      "source": [
        "plt.scatter(C,L,color='gray')\n",
        "plt.savefig('bias.jpeg',dpi=300)"
      ]
    },
    {
      "cell_type": "markdown",
      "source": [
        "ดูค่า loss เทียบกับค่า Weight และ Bias"
      ],
      "metadata": {
        "id": "cTbyKmW7yA3C"
      }
    },
    {
      "cell_type": "code",
      "execution_count": null,
      "metadata": {
        "colab": {
          "base_uri": "https://localhost:8080/",
          "height": 542
        },
        "id": "XAyDkkEH82yV",
        "outputId": "4bd2ac23-4385-4db0-b188-d35dfa4043d6"
      },
      "outputs": [
        {
          "output_type": "display_data",
          "data": {
            "text/html": [
              "<html>\n",
              "<head><meta charset=\"utf-8\" /></head>\n",
              "<body>\n",
              "    <div>            <script src=\"https://cdnjs.cloudflare.com/ajax/libs/mathjax/2.7.5/MathJax.js?config=TeX-AMS-MML_SVG\"></script><script type=\"text/javascript\">if (window.MathJax && window.MathJax.Hub && window.MathJax.Hub.Config) {window.MathJax.Hub.Config({SVG: {font: \"STIX-Web\"}});}</script>                <script type=\"text/javascript\">window.PlotlyConfig = {MathJaxConfig: 'local'};</script>\n",
              "        <script charset=\"utf-8\" src=\"https://cdn.plot.ly/plotly-2.35.2.min.js\"></script>                <div id=\"0c02fc0f-7e16-4b91-85cb-dd43f8896b70\" class=\"plotly-graph-div\" style=\"height:525px; width:100%;\"></div>            <script type=\"text/javascript\">                                    window.PLOTLYENV=window.PLOTLYENV || {};                                    if (document.getElementById(\"0c02fc0f-7e16-4b91-85cb-dd43f8896b70\")) {                    Plotly.newPlot(                        \"0c02fc0f-7e16-4b91-85cb-dd43f8896b70\",                        [{\"hovertemplate\":\"W=%{x}\\u003cbr\\u003eBias=%{y}\\u003cbr\\u003eLoss=%{z}\\u003cextra\\u003e\\u003c\\u002fextra\\u003e\",\"legendgroup\":\"\",\"marker\":{\"color\":\"#636efa\",\"symbol\":\"circle\"},\"mode\":\"markers\",\"name\":\"\",\"scene\":\"scene\",\"showlegend\":false,\"x\":[-0.061005473,0.05403034,0.160159,0.25807005,0.3483997,0.43173486,0.50861704,0.57954586,0.6449821,0.70535105,0.76104504,0.8124259,0.85982764,0.9035582,0.9439019,0.9811209,1.015457,1.0471336,1.0763564,1.1033155,1.1281861,1.1511298,1.1722959,1.191822,1.209835,1.2264522,1.2417815,1.2559226,1.2689675,1.2810011,1.2921017,1.3023416,1.3117872,1.3205003,1.3285373,1.3359509,1.342789,1.3490964,1.3549141,1.3602799,1.365229,1.3697935,1.3740033,1.3778857,1.3814662,1.384768,1.3878129,1.3906206,1.3932096,1.3955966,1.3977975,1.3998265,1.4016972,1.4034215,1.405011,1.4064761,1.4078264,1.4090707,1.4102173,1.4112737,1.412247,1.4131434,1.413969,1.4147294,1.4154295,1.4160739,1.4166671,1.417213,1.4177152,1.4181771,1.4186019,1.4189923,1.4193511,1.4196807,1.4199835,1.4202614,1.4205164,1.4207503,1.4209646,1.4211609,1.4213407,1.4215051,1.4216554,1.4217926,1.4219179,1.422032,1.422136,1.4222304,1.4223161,1.4223938,1.4224641,1.4225276,1.4225847,1.4226359,1.4226818,1.4227228,1.4227592,1.4227914,1.4228196,1.4228443,1.4228657,1.4228841,1.4228996,1.4229125,1.422923,1.4229313,1.4229376,1.422942,1.4229447,1.4229457,1.4229453,1.4229435,1.4229404,1.4229362,1.422931,1.4229246,1.4229175,1.4229095,1.4229007,1.4228911,1.4228809,1.42287,1.4228587,1.4228468,1.4228344,1.4228216,1.4228084,1.4227948,1.4227809,1.4227666,1.422752,1.4227372,1.4227222,1.422707,1.4226915,1.4226757,1.4226599,1.4226438,1.4226276,1.4226112,1.4225948,1.4225782,1.4225615,1.4225447,1.4225278,1.4225107,1.4224937,1.4224765,1.4224592,1.422442,1.4224246,1.4224072,1.4223896,1.4223721,1.4223546,1.4223369,1.4223193,1.4223017,1.422284,1.4222662,1.4222485,1.4222307,1.422213,1.4221952,1.4221774,1.4221596,1.4221417,1.4221238,1.4221059,1.422088,1.4220701,1.4220523,1.4220344,1.4220165,1.4219985,1.4219805,1.4219625,1.4219445,1.4219265,1.4219085,1.4218905,1.4218725,1.4218545,1.4218365,1.4218185,1.4218005,1.4217825,1.4217645,1.4217465,1.4217285,1.4217105,1.4216925,1.4216745,1.4216565,1.4216385,1.4216205,1.4216025,1.4215845,1.4215665,1.4215485,1.4215305,1.4215125,1.4214945,1.4214765,1.4214585,1.4214405,1.4214225,1.4214045,1.4213865,1.4213685,1.4213505,1.4213325,1.4213145,1.4212965,1.4212785,1.4212605,1.4212425,1.4212245,1.4212065,1.4211885,1.4211705,1.4211525,1.4211345,1.4211165,1.4210985,1.4210805,1.4210625,1.4210445,1.4210265,1.4210085,1.4209905,1.4209725,1.4209545,1.4209365,1.4209185,1.4209005,1.4208825,1.4208645,1.4208465,1.4208285,1.4208105,1.4207925,1.4207745,1.4207565,1.4207385,1.4207205,1.4207025,1.4206845,1.4206665,1.4206485,1.4206305,1.4206125,1.4205945,1.4205765,1.4205585,1.4205405,1.4205225,1.4205045,1.4204865,1.4204684,1.4204504,1.4204324,1.4204144,1.4203964,1.4203784,1.4203604,1.4203424,1.4203244,1.4203064,1.4202884,1.4202704,1.4202524,1.4202344,1.4202164,1.4201986,1.4201806,1.4201626,1.4201447,1.4201267,1.4201087,1.4200907,1.4200728,1.4200548,1.4200368,1.4200189,1.4200009,1.4199829,1.419965,1.419947,1.419929,1.4199111,1.4198931,1.4198751,1.4198573,1.4198393,1.4198213,1.4198034,1.4197854,1.4197675,1.4197495,1.4197316,1.4197136,1.4196957,1.4196777,1.4196597,1.4196419,1.4196239,1.419606,1.419588,1.4195701,1.4195521,1.4195342,1.4195162,1.4194982,1.4194803,1.4194623,1.4194444,1.4194264,1.4194086,1.4193907,1.4193727,1.4193547,1.4193368,1.4193189,1.4193009,1.419283,1.4192652,1.4192472,1.4192291,1.4192113,1.4191934,1.4191754,1.4191575,1.4191395,1.4191216,1.4191037,1.4190857,1.4190679,1.41905,1.419032,1.4190141,1.4189961,1.4189782,1.4189603,1.4189425,1.4189245,1.4189066,1.4188886,1.4188707,1.4188528,1.4188348,1.4188169,1.418799,1.418781,1.4187632,1.4187453,1.4187274,1.4187094,1.4186915,1.4186736,1.4186556,1.4186378,1.4186199,1.418602,1.418584,1.4185661,1.4185482,1.4185303,1.4185125,1.4184945,1.4184766,1.4184587,1.4184408,1.4184229,1.4184049,1.418387,1.4183692,1.4183513,1.4183334,1.4183154,1.4182975,1.4182796,1.4182618,1.4182439,1.418226,1.4182081,1.4181902,1.4181722,1.4181544,1.4181365,1.4181186,1.4181007,1.4180828,1.418065,1.4180471,1.4180292,1.4180113,1.4179933,1.4179754,1.4179575,1.4179397,1.4179218,1.4179039,1.417886,1.4178681,1.4178503,1.4178324,1.4178145,1.4177966,1.4177787,1.4177608,1.417743,1.4177251,1.4177072,1.4176893,1.4176714,1.4176536,1.4176357,1.4176178,1.4175999,1.417582,1.4175642,1.4175463,1.4175284,1.4175105,1.4174926,1.4174747,1.4174569,1.417439,1.4174211,1.4174032,1.4173853,1.4173675,1.4173496,1.4173317,1.4173138,1.4172959,1.417278,1.4172602,1.4172423,1.4172244,1.4172065,1.4171886,1.4171708,1.4171529,1.417135,1.4171171,1.4170992,1.4170814,1.4170635,1.4170456,1.4170277,1.4170098,1.416992,1.4169741,1.4169562,1.4169383,1.4169204,1.4169025,1.4168847,1.4168668,1.4168489,1.416831,1.4168131,1.4167953,1.4167774,1.4167595,1.4167416,1.4167237,1.4167058,1.416688,1.4166701,1.4166522,1.4166343,1.4166164,1.4165986,1.4165808,1.4165629,1.416545,1.4165273,1.4165094,1.4164915,1.4164737,1.4164559,1.4164381,1.4164202,1.4164025,1.4163846,1.4163668,1.4163489,1.416331,1.4163133,1.4162954,1.4162776,1.4162598,1.416242,1.4162241,1.4162064,1.4161885,1.4161707],\"y\":[-0.35642722,-0.35072905,-0.34544155,-0.34053293,-0.33597386,-0.33173728,-0.32779822,-0.32413363,-0.3207223,-0.3175446,-0.31458247,-0.3118192,-0.3092394,-0.30682883,-0.30457443,-0.30246413,-0.30048674,-0.298632,-0.29689038,-0.29525316,-0.29371223,-0.29226014,-0.29089004,-0.28959554,-0.28837082,-0.28721046,-0.2861095,-0.28506336,-0.28406775,-0.28311878,-0.28221285,-0.28134662,-0.280517,-0.2797212,-0.27895656,-0.27822068,-0.27751136,-0.2768265,-0.27616423,-0.27552283,-0.27490065,-0.2742962,-0.27370813,-0.27313516,-0.27257612,-0.27202994,-0.27149564,-0.27097228,-0.27045903,-0.26995507,-0.26945972,-0.2689723,-0.26849222,-0.2680189,-0.2675518,-0.26709047,-0.26663443,-0.2661833,-0.26573667,-0.26529422,-0.26485562,-0.26442057,-0.2639888,-0.26356006,-0.2631341,-0.26271072,-0.26228973,-0.26187092,-0.26145414,-0.26103923,-0.26062605,-0.26021448,-0.25980437,-0.25939563,-0.25898814,-0.25858182,-0.25817657,-0.2577723,-0.25736892,-0.2569664,-0.25656468,-0.25616366,-0.2557633,-0.25536355,-0.25496438,-0.25456575,-0.2541676,-0.25376987,-0.25337258,-0.25297567,-0.25257912,-0.2521829,-0.25178698,-0.25139135,-0.250996,-0.25060087,-0.25020596,-0.24981126,-0.24941675,-0.24902242,-0.24862827,-0.24823427,-0.24784042,-0.2474467,-0.2470531,-0.24665962,-0.24626625,-0.24587297,-0.24547979,-0.2450867,-0.2446937,-0.24430077,-0.24390791,-0.24351512,-0.2431224,-0.24272974,-0.24233712,-0.24194457,-0.24155205,-0.24115959,-0.24076717,-0.24037479,-0.23998246,-0.23959015,-0.2391979,-0.23880567,-0.23841347,-0.2380213,-0.23762916,-0.23723705,-0.23684497,-0.23645292,-0.2360609,-0.2356689,-0.23527692,-0.23488498,-0.23449305,-0.23410115,-0.23370926,-0.23331739,-0.23292555,-0.23253372,-0.23214191,-0.23175013,-0.23135836,-0.23096661,-0.23057488,-0.23018315,-0.22979146,-0.22939979,-0.22900812,-0.22861648,-0.22822484,-0.22783323,-0.22744162,-0.22705004,-0.22665846,-0.2262669,-0.22587536,-0.22548383,-0.22509232,-0.22470082,-0.22430934,-0.22391787,-0.22352643,-0.22313501,-0.22274359,-0.22235218,-0.22196078,-0.2215694,-0.22117804,-0.22078669,-0.22039536,-0.22000404,-0.21961273,-0.21922144,-0.21883017,-0.21843891,-0.21804766,-0.21765643,-0.21726522,-0.21687402,-0.21648283,-0.21609166,-0.2157005,-0.21530937,-0.21491824,-0.21452713,-0.21413603,-0.21374495,-0.21335389,-0.21296282,-0.21257177,-0.21218073,-0.21178971,-0.2113987,-0.21100771,-0.21061674,-0.21022578,-0.20983483,-0.2094439,-0.20905298,-0.20866208,-0.20827119,-0.20788032,-0.20748946,-0.20709862,-0.20670779,-0.20631698,-0.20592618,-0.20553538,-0.2051446,-0.20475383,-0.20436308,-0.20397234,-0.20358162,-0.20319091,-0.20280021,-0.20240954,-0.20201887,-0.20162822,-0.20123759,-0.20084697,-0.20045637,-0.20006578,-0.1996752,-0.19928464,-0.1988941,-0.19850355,-0.19811302,-0.19772251,-0.19733201,-0.19694152,-0.19655105,-0.1961606,-0.19577016,-0.19537973,-0.19498932,-0.19459893,-0.19420855,-0.19381818,-0.19342783,-0.1930375,-0.19264717,-0.19225685,-0.19186655,-0.19147626,-0.19108598,-0.19069572,-0.19030547,-0.18991524,-0.18952502,-0.18913482,-0.18874463,-0.18835446,-0.1879643,-0.18757416,-0.18718404,-0.18679392,-0.18640383,-0.18601373,-0.18562365,-0.18523358,-0.18484353,-0.18445349,-0.18406346,-0.18367346,-0.18328346,-0.18289348,-0.18250352,-0.18211357,-0.18172364,-0.18133372,-0.18094382,-0.18055393,-0.18016405,-0.17977418,-0.17938432,-0.17899448,-0.17860465,-0.17821483,-0.17782503,-0.17743525,-0.17704548,-0.17665572,-0.17626598,-0.17587626,-0.17548655,-0.17509685,-0.17470717,-0.17431751,-0.17392786,-0.17353821,-0.17314857,-0.17275895,-0.17236935,-0.17197976,-0.17159018,-0.17120062,-0.17081107,-0.17042154,-0.17003202,-0.16964252,-0.16925304,-0.16886356,-0.16847411,-0.16808467,-0.16769524,-0.16730583,-0.16691642,-0.16652702,-0.16613764,-0.16574827,-0.16535892,-0.16496958,-0.16458026,-0.16419095,-0.16380166,-0.16341238,-0.16302311,-0.16263387,-0.16224463,-0.16185541,-0.16146621,-0.16107702,-0.16068783,-0.16029866,-0.1599095,-0.15952036,-0.15913123,-0.15874211,-0.15835302,-0.15796393,-0.15757486,-0.15718581,-0.15679677,-0.15640774,-0.15601873,-0.15562974,-0.15524076,-0.1548518,-0.15446284,-0.1540739,-0.15368496,-0.15329604,-0.15290713,-0.15251824,-0.15212937,-0.1517405,-0.15135166,-0.15096283,-0.15057401,-0.15018521,-0.14979643,-0.14940766,-0.1490189,-0.14863016,-0.14824143,-0.1478527,-0.14746399,-0.1470753,-0.14668661,-0.14629795,-0.1459093,-0.14552066,-0.14513204,-0.14474343,-0.14435484,-0.14396626,-0.1435777,-0.14318915,-0.14280061,-0.1424121,-0.1420236,-0.14163509,-0.1412466,-0.14085813,-0.14046967,-0.14008123,-0.1396928,-0.13930438,-0.13891599,-0.1385276,-0.13813923,-0.13775088,-0.13736254,-0.13697422,-0.1365859,-0.13619761,-0.13580932,-0.13542104,-0.13503277,-0.13464452,-0.13425629,-0.13386807,-0.13347986,-0.13309167,-0.1327035,-0.13231534,-0.13192719,-0.13153906,-0.13115095,-0.13076285,-0.13037476,-0.12998669,-0.12959862,-0.12921056,-0.12882252,-0.1284345,-0.12804648,-0.12765849,-0.1272705,-0.12688254,-0.12649459,-0.12610665,-0.12571873,-0.12533082,-0.12494292,-0.12455504,-0.12416717,-0.12377931,-0.12339147,-0.12300365,-0.12261584,-0.122228034,-0.121840246,-0.12145247,-0.121064715,-0.12067697,-0.120289244,-0.11990153,-0.119513825,-0.11912613,-0.11873846,-0.1183508,-0.11796315,-0.11757552,-0.1171879,-0.1168003,-0.11641271,-0.11602513,-0.11563756,-0.115250014,-0.11486248,-0.11447496,-0.114087455,-0.11369996,-0.113312475,-0.11292501,-0.112537555,-0.11215012,-0.111762695,-0.11137529,-0.11098789,-0.1106005,-0.11021313,-0.109825775,-0.109438434,-0.10905111,-0.1086638,-0.108276494,-0.107889205,-0.10750193,-0.10711467,-0.10672743,-0.1063402,-0.10595298,-0.10556577,-0.10517858,-0.1047914,-0.10440424,-0.104017094,-0.10362996,-0.10324284,-0.10285573,-0.10246863,-0.10208155,-0.10169449,-0.10130744,-0.1009204,-0.10053337,-0.10014636,-0.09975936,-0.09937238,-0.09898541,-0.09859846,-0.09821152,-0.097824596,-0.09743768,-0.09705078,-0.09666389,-0.09627702,-0.095890164,-0.09550332,-0.095116496,-0.09472968,-0.09434287,-0.09395608,-0.09356931,-0.09318255],\"z\":[895.80646,768.2843,659.74243,567.35583,488.71994,421.78806,364.81818,316.32742,275.05396,239.92343,210.0215,184.57002,162.9065,144.4672,128.77217,115.413,104.041985,94.36322,86.12481,79.1124,73.14347,68.062744,63.738014,60.05674,56.923172,54.255753,51.985146,50.05227,48.406837,47.0061,45.813602,44.798378,43.934025,43.198093,42.57147,42.03788,41.58348,41.196484,40.866856,40.58606,40.34683,40.14297,39.969234,39.821117,39.69482,39.58709,39.495163,39.41669,39.349663,39.292385,39.243404,39.20149,39.16557,39.13477,39.108326,39.08559,39.065998,39.049103,39.03449,39.02182,39.010807,39.0012,38.992798,38.985413,38.978893,38.97312,38.967976,38.963367,38.959213,38.955444,38.95201,38.948856,38.945942,38.943233,38.940693,38.93831,38.93604,38.933887,38.93182,38.929832,38.927914,38.926044,38.924225,38.922447,38.920708,38.919,38.91731,38.915638,38.913994,38.91236,38.91074,38.909134,38.907536,38.90595,38.904366,38.902786,38.90122,38.89965,38.898083,38.896526,38.894966,38.893414,38.89186,38.89031,38.88876,38.88721,38.885662,38.884113,38.882565,38.881023,38.879482,38.877934,38.876392,38.87485,38.873306,38.871765,38.870224,38.868683,38.86714,38.8656,38.86406,38.86252,38.860977,38.85944,38.8579,38.856358,38.854816,38.853275,38.851738,38.850204,38.84866,38.847122,38.84558,38.84404,38.842503,38.84096,38.839428,38.837887,38.83635,38.834812,38.83327,38.831734,38.830196,38.82866,38.827118,38.82558,38.824047,38.82251,38.820972,38.819435,38.817898,38.816364,38.814823,38.813286,38.81175,38.81021,38.80868,38.80714,38.805603,38.80407,38.802536,38.800995,38.799465,38.797924,38.79639,38.794853,38.79332,38.791786,38.79025,38.78871,38.78718,38.78565,38.78411,38.782578,38.781044,38.779507,38.777973,38.77644,38.77491,38.773373,38.77184,38.7703,38.768772,38.76724,38.765705,38.76417,38.762638,38.76111,38.759575,38.75804,38.756508,38.754974,38.75344,38.75191,38.75038,38.748848,38.74732,38.745785,38.74425,38.742718,38.741188,38.73966,38.738125,38.736595,38.73506,38.73353,38.732002,38.730473,38.72894,38.72741,38.725876,38.724354,38.72282,38.721287,38.719757,38.71823,38.7167,38.715168,38.713642,38.71211,38.71058,38.709053,38.707523,38.705997,38.704464,38.702934,38.70141,38.69988,38.69835,38.696823,38.695293,38.693768,38.692234,38.690712,38.689182,38.687656,38.686123,38.6846,38.683075,38.681545,38.68002,38.67849,38.676964,38.675434,38.673912,38.672386,38.670856,38.669327,38.667805,38.666283,38.664757,38.663223,38.6617,38.66018,38.658653,38.657127,38.655598,38.654076,38.65255,38.651024,38.6495,38.647972,38.64645,38.644924,38.643402,38.641876,38.640354,38.63883,38.637302,38.63578,38.634254,38.632732,38.63121,38.629684,38.628166,38.626637,38.625114,38.623592,38.62207,38.62055,38.619026,38.617504,38.61598,38.61446,38.61293,38.611412,38.609894,38.608368,38.606846,38.605328,38.603806,38.602283,38.600758,38.599236,38.59772,38.596195,38.594673,38.59315,38.591633,38.59011,38.588593,38.58707,38.585556,38.58403,38.582508,38.58099,38.579475,38.577953,38.576435,38.574913,38.573395,38.571873,38.57036,38.568832,38.567314,38.565796,38.56428,38.562756,38.56124,38.559723,38.55821,38.556686,38.555172,38.55365,38.55213,38.550613,38.549095,38.547577,38.546062,38.544544,38.543026,38.541508,38.539993,38.538475,38.536957,38.535442,38.533928,38.53241,38.530895,38.529377,38.52786,38.526344,38.52483,38.523308,38.5218,38.520283,38.518764,38.517246,38.515736,38.514217,38.512703,38.51119,38.509674,38.50816,38.506645,38.50513,38.503616,38.5021,38.500587,38.499077,38.497562,38.496044,38.494534,38.493015,38.4915,38.489994,38.48848,38.486965,38.485455,38.48394,38.482426,38.480915,38.479404,38.47789,38.47637,38.47486,38.47335,38.47184,38.47033,38.468815,38.467304,38.465794,38.464283,38.462765,38.461258,38.459747,38.458233,38.456722,38.455215,38.453697,38.45219,38.45068,38.449173,38.44766,38.446148,38.44464,38.443127,38.44162,38.44011,38.438602,38.43709,38.43558,38.43407,38.432564,38.431053,38.42954,38.428032,38.42652,38.425014,38.423508,38.422,38.42049,38.418983,38.417473,38.415962,38.41446,38.41295,38.41144,38.40993,38.408424,38.406918,38.40541,38.403904,38.402397,38.40089,38.399384,38.397877,38.39637,38.394863,38.393356,38.39185,38.390343,38.388836,38.38733,38.385826,38.38432,38.382812,38.3813,38.3798,38.378296,38.37679,38.37529,38.373783,38.372276,38.370773,38.369263,38.367764,38.366257,38.36475,38.363247,38.361744,38.36024,38.358734,38.35723,38.35573,38.354225,38.35272,38.35122,38.349712,38.34821,38.346706,38.345203,38.343704,38.3422,38.3407,38.33919,38.337692,38.336185,38.334686,38.333183,38.33168,38.330177,38.32868,38.327175,38.325672,38.324173,38.32267,38.321167,38.31967,38.318165,38.31667,38.315166,38.313667,38.312164,38.310665,38.309162,38.307663,38.306164,38.30466,38.30316,38.30166,38.300163,38.298664,38.29716,38.295662,38.294163,38.292664,38.291164,38.289665,38.288166],\"type\":\"scatter3d\"}],                        {\"template\":{\"data\":{\"histogram2dcontour\":[{\"type\":\"histogram2dcontour\",\"colorbar\":{\"outlinewidth\":0,\"ticks\":\"\"},\"colorscale\":[[0.0,\"#0d0887\"],[0.1111111111111111,\"#46039f\"],[0.2222222222222222,\"#7201a8\"],[0.3333333333333333,\"#9c179e\"],[0.4444444444444444,\"#bd3786\"],[0.5555555555555556,\"#d8576b\"],[0.6666666666666666,\"#ed7953\"],[0.7777777777777778,\"#fb9f3a\"],[0.8888888888888888,\"#fdca26\"],[1.0,\"#f0f921\"]]}],\"choropleth\":[{\"type\":\"choropleth\",\"colorbar\":{\"outlinewidth\":0,\"ticks\":\"\"}}],\"histogram2d\":[{\"type\":\"histogram2d\",\"colorbar\":{\"outlinewidth\":0,\"ticks\":\"\"},\"colorscale\":[[0.0,\"#0d0887\"],[0.1111111111111111,\"#46039f\"],[0.2222222222222222,\"#7201a8\"],[0.3333333333333333,\"#9c179e\"],[0.4444444444444444,\"#bd3786\"],[0.5555555555555556,\"#d8576b\"],[0.6666666666666666,\"#ed7953\"],[0.7777777777777778,\"#fb9f3a\"],[0.8888888888888888,\"#fdca26\"],[1.0,\"#f0f921\"]]}],\"heatmap\":[{\"type\":\"heatmap\",\"colorbar\":{\"outlinewidth\":0,\"ticks\":\"\"},\"colorscale\":[[0.0,\"#0d0887\"],[0.1111111111111111,\"#46039f\"],[0.2222222222222222,\"#7201a8\"],[0.3333333333333333,\"#9c179e\"],[0.4444444444444444,\"#bd3786\"],[0.5555555555555556,\"#d8576b\"],[0.6666666666666666,\"#ed7953\"],[0.7777777777777778,\"#fb9f3a\"],[0.8888888888888888,\"#fdca26\"],[1.0,\"#f0f921\"]]}],\"heatmapgl\":[{\"type\":\"heatmapgl\",\"colorbar\":{\"outlinewidth\":0,\"ticks\":\"\"},\"colorscale\":[[0.0,\"#0d0887\"],[0.1111111111111111,\"#46039f\"],[0.2222222222222222,\"#7201a8\"],[0.3333333333333333,\"#9c179e\"],[0.4444444444444444,\"#bd3786\"],[0.5555555555555556,\"#d8576b\"],[0.6666666666666666,\"#ed7953\"],[0.7777777777777778,\"#fb9f3a\"],[0.8888888888888888,\"#fdca26\"],[1.0,\"#f0f921\"]]}],\"contourcarpet\":[{\"type\":\"contourcarpet\",\"colorbar\":{\"outlinewidth\":0,\"ticks\":\"\"}}],\"contour\":[{\"type\":\"contour\",\"colorbar\":{\"outlinewidth\":0,\"ticks\":\"\"},\"colorscale\":[[0.0,\"#0d0887\"],[0.1111111111111111,\"#46039f\"],[0.2222222222222222,\"#7201a8\"],[0.3333333333333333,\"#9c179e\"],[0.4444444444444444,\"#bd3786\"],[0.5555555555555556,\"#d8576b\"],[0.6666666666666666,\"#ed7953\"],[0.7777777777777778,\"#fb9f3a\"],[0.8888888888888888,\"#fdca26\"],[1.0,\"#f0f921\"]]}],\"surface\":[{\"type\":\"surface\",\"colorbar\":{\"outlinewidth\":0,\"ticks\":\"\"},\"colorscale\":[[0.0,\"#0d0887\"],[0.1111111111111111,\"#46039f\"],[0.2222222222222222,\"#7201a8\"],[0.3333333333333333,\"#9c179e\"],[0.4444444444444444,\"#bd3786\"],[0.5555555555555556,\"#d8576b\"],[0.6666666666666666,\"#ed7953\"],[0.7777777777777778,\"#fb9f3a\"],[0.8888888888888888,\"#fdca26\"],[1.0,\"#f0f921\"]]}],\"mesh3d\":[{\"type\":\"mesh3d\",\"colorbar\":{\"outlinewidth\":0,\"ticks\":\"\"}}],\"scatter\":[{\"fillpattern\":{\"fillmode\":\"overlay\",\"size\":10,\"solidity\":0.2},\"type\":\"scatter\"}],\"parcoords\":[{\"type\":\"parcoords\",\"line\":{\"colorbar\":{\"outlinewidth\":0,\"ticks\":\"\"}}}],\"scatterpolargl\":[{\"type\":\"scatterpolargl\",\"marker\":{\"colorbar\":{\"outlinewidth\":0,\"ticks\":\"\"}}}],\"bar\":[{\"error_x\":{\"color\":\"#2a3f5f\"},\"error_y\":{\"color\":\"#2a3f5f\"},\"marker\":{\"line\":{\"color\":\"#E5ECF6\",\"width\":0.5},\"pattern\":{\"fillmode\":\"overlay\",\"size\":10,\"solidity\":0.2}},\"type\":\"bar\"}],\"scattergeo\":[{\"type\":\"scattergeo\",\"marker\":{\"colorbar\":{\"outlinewidth\":0,\"ticks\":\"\"}}}],\"scatterpolar\":[{\"type\":\"scatterpolar\",\"marker\":{\"colorbar\":{\"outlinewidth\":0,\"ticks\":\"\"}}}],\"histogram\":[{\"marker\":{\"pattern\":{\"fillmode\":\"overlay\",\"size\":10,\"solidity\":0.2}},\"type\":\"histogram\"}],\"scattergl\":[{\"type\":\"scattergl\",\"marker\":{\"colorbar\":{\"outlinewidth\":0,\"ticks\":\"\"}}}],\"scatter3d\":[{\"type\":\"scatter3d\",\"line\":{\"colorbar\":{\"outlinewidth\":0,\"ticks\":\"\"}},\"marker\":{\"colorbar\":{\"outlinewidth\":0,\"ticks\":\"\"}}}],\"scattermapbox\":[{\"type\":\"scattermapbox\",\"marker\":{\"colorbar\":{\"outlinewidth\":0,\"ticks\":\"\"}}}],\"scatterternary\":[{\"type\":\"scatterternary\",\"marker\":{\"colorbar\":{\"outlinewidth\":0,\"ticks\":\"\"}}}],\"scattercarpet\":[{\"type\":\"scattercarpet\",\"marker\":{\"colorbar\":{\"outlinewidth\":0,\"ticks\":\"\"}}}],\"carpet\":[{\"aaxis\":{\"endlinecolor\":\"#2a3f5f\",\"gridcolor\":\"white\",\"linecolor\":\"white\",\"minorgridcolor\":\"white\",\"startlinecolor\":\"#2a3f5f\"},\"baxis\":{\"endlinecolor\":\"#2a3f5f\",\"gridcolor\":\"white\",\"linecolor\":\"white\",\"minorgridcolor\":\"white\",\"startlinecolor\":\"#2a3f5f\"},\"type\":\"carpet\"}],\"table\":[{\"cells\":{\"fill\":{\"color\":\"#EBF0F8\"},\"line\":{\"color\":\"white\"}},\"header\":{\"fill\":{\"color\":\"#C8D4E3\"},\"line\":{\"color\":\"white\"}},\"type\":\"table\"}],\"barpolar\":[{\"marker\":{\"line\":{\"color\":\"#E5ECF6\",\"width\":0.5},\"pattern\":{\"fillmode\":\"overlay\",\"size\":10,\"solidity\":0.2}},\"type\":\"barpolar\"}],\"pie\":[{\"automargin\":true,\"type\":\"pie\"}]},\"layout\":{\"autotypenumbers\":\"strict\",\"colorway\":[\"#636efa\",\"#EF553B\",\"#00cc96\",\"#ab63fa\",\"#FFA15A\",\"#19d3f3\",\"#FF6692\",\"#B6E880\",\"#FF97FF\",\"#FECB52\"],\"font\":{\"color\":\"#2a3f5f\"},\"hovermode\":\"closest\",\"hoverlabel\":{\"align\":\"left\"},\"paper_bgcolor\":\"white\",\"plot_bgcolor\":\"#E5ECF6\",\"polar\":{\"bgcolor\":\"#E5ECF6\",\"angularaxis\":{\"gridcolor\":\"white\",\"linecolor\":\"white\",\"ticks\":\"\"},\"radialaxis\":{\"gridcolor\":\"white\",\"linecolor\":\"white\",\"ticks\":\"\"}},\"ternary\":{\"bgcolor\":\"#E5ECF6\",\"aaxis\":{\"gridcolor\":\"white\",\"linecolor\":\"white\",\"ticks\":\"\"},\"baxis\":{\"gridcolor\":\"white\",\"linecolor\":\"white\",\"ticks\":\"\"},\"caxis\":{\"gridcolor\":\"white\",\"linecolor\":\"white\",\"ticks\":\"\"}},\"coloraxis\":{\"colorbar\":{\"outlinewidth\":0,\"ticks\":\"\"}},\"colorscale\":{\"sequential\":[[0.0,\"#0d0887\"],[0.1111111111111111,\"#46039f\"],[0.2222222222222222,\"#7201a8\"],[0.3333333333333333,\"#9c179e\"],[0.4444444444444444,\"#bd3786\"],[0.5555555555555556,\"#d8576b\"],[0.6666666666666666,\"#ed7953\"],[0.7777777777777778,\"#fb9f3a\"],[0.8888888888888888,\"#fdca26\"],[1.0,\"#f0f921\"]],\"sequentialminus\":[[0.0,\"#0d0887\"],[0.1111111111111111,\"#46039f\"],[0.2222222222222222,\"#7201a8\"],[0.3333333333333333,\"#9c179e\"],[0.4444444444444444,\"#bd3786\"],[0.5555555555555556,\"#d8576b\"],[0.6666666666666666,\"#ed7953\"],[0.7777777777777778,\"#fb9f3a\"],[0.8888888888888888,\"#fdca26\"],[1.0,\"#f0f921\"]],\"diverging\":[[0,\"#8e0152\"],[0.1,\"#c51b7d\"],[0.2,\"#de77ae\"],[0.3,\"#f1b6da\"],[0.4,\"#fde0ef\"],[0.5,\"#f7f7f7\"],[0.6,\"#e6f5d0\"],[0.7,\"#b8e186\"],[0.8,\"#7fbc41\"],[0.9,\"#4d9221\"],[1,\"#276419\"]]},\"xaxis\":{\"gridcolor\":\"white\",\"linecolor\":\"white\",\"ticks\":\"\",\"title\":{\"standoff\":15},\"zerolinecolor\":\"white\",\"automargin\":true,\"zerolinewidth\":2},\"yaxis\":{\"gridcolor\":\"white\",\"linecolor\":\"white\",\"ticks\":\"\",\"title\":{\"standoff\":15},\"zerolinecolor\":\"white\",\"automargin\":true,\"zerolinewidth\":2},\"scene\":{\"xaxis\":{\"backgroundcolor\":\"#E5ECF6\",\"gridcolor\":\"white\",\"linecolor\":\"white\",\"showbackground\":true,\"ticks\":\"\",\"zerolinecolor\":\"white\",\"gridwidth\":2},\"yaxis\":{\"backgroundcolor\":\"#E5ECF6\",\"gridcolor\":\"white\",\"linecolor\":\"white\",\"showbackground\":true,\"ticks\":\"\",\"zerolinecolor\":\"white\",\"gridwidth\":2},\"zaxis\":{\"backgroundcolor\":\"#E5ECF6\",\"gridcolor\":\"white\",\"linecolor\":\"white\",\"showbackground\":true,\"ticks\":\"\",\"zerolinecolor\":\"white\",\"gridwidth\":2}},\"shapedefaults\":{\"line\":{\"color\":\"#2a3f5f\"}},\"annotationdefaults\":{\"arrowcolor\":\"#2a3f5f\",\"arrowhead\":0,\"arrowwidth\":1},\"geo\":{\"bgcolor\":\"white\",\"landcolor\":\"#E5ECF6\",\"subunitcolor\":\"white\",\"showland\":true,\"showlakes\":true,\"lakecolor\":\"white\"},\"title\":{\"x\":0.05},\"mapbox\":{\"style\":\"light\"}}},\"scene\":{\"domain\":{\"x\":[0.0,1.0],\"y\":[0.0,1.0]},\"xaxis\":{\"title\":{\"text\":\"W\"}},\"yaxis\":{\"title\":{\"text\":\"Bias\"}},\"zaxis\":{\"title\":{\"text\":\"Loss\"}}},\"legend\":{\"tracegroupgap\":0},\"margin\":{\"t\":60}},                        {\"responsive\": true}                    ).then(function(){\n",
              "                            \n",
              "var gd = document.getElementById('0c02fc0f-7e16-4b91-85cb-dd43f8896b70');\n",
              "var x = new MutationObserver(function (mutations, observer) {{\n",
              "        var display = window.getComputedStyle(gd).display;\n",
              "        if (!display || display === 'none') {{\n",
              "            console.log([gd, 'removed!']);\n",
              "            Plotly.purge(gd);\n",
              "            observer.disconnect();\n",
              "        }}\n",
              "}});\n",
              "\n",
              "// Listen for the removal of the full notebook cells\n",
              "var notebookContainer = gd.closest('#notebook-container');\n",
              "if (notebookContainer) {{\n",
              "    x.observe(notebookContainer, {childList: true});\n",
              "}}\n",
              "\n",
              "// Listen for the clearing of the current output cell\n",
              "var outputEl = gd.closest('.output');\n",
              "if (outputEl) {{\n",
              "    x.observe(outputEl, {childList: true});\n",
              "}}\n",
              "\n",
              "                        })                };                            </script>        </div>\n",
              "</body>\n",
              "</html>"
            ]
          },
          "metadata": {}
        }
      ],
      "source": [
        "import plotly.express as px\n",
        "\n",
        "df=pd.DataFrame({'W':M,'Bias':C,'Loss':L})\n",
        "fig=px.scatter_3d(df,x='W',y='Bias',z='Loss')\n",
        "fig.show()"
      ]
    },
    {
      "cell_type": "markdown",
      "source": [
        "วัดประสิทธิภาพโมเดลด้วย Mean Absolute Error, Mean Squared Error, Root Mean Squared Error"
      ],
      "metadata": {
        "id": "vnHw_zMMyF5x"
      }
    },
    {
      "cell_type": "code",
      "execution_count": null,
      "metadata": {
        "colab": {
          "base_uri": "https://localhost:8080/"
        },
        "id": "YNsRcUod9eY3",
        "outputId": "05182b8b-b750-4f76-86a4-94448665ceab"
      },
      "outputs": [
        {
          "output_type": "stream",
          "name": "stdout",
          "text": [
            "Mean Absolute Error: 4.643053909158561\n",
            "Mean Squared Error: 38.50470127301752\n",
            "Root Mean Squared Error: 6.205215650806789\n"
          ]
        }
      ],
      "source": [
        "print('Mean Absolute Error:',metrics.mean_absolute_error(y_test, y_pred))\n",
        "print('Mean Squared Error:',metrics.mean_squared_error(y_test, y_pred))\n",
        "print('Root Mean Squared Error:',np.sqrt(metrics.mean_squared_error(y_test, y_pred)))"
      ]
    }
  ],
  "metadata": {
    "accelerator": "GPU",
    "colab": {
      "gpuType": "T4",
      "provenance": [],
      "collapsed_sections": [
        "tjuHySsU6MAi",
        "XDw0Fm8W6doG",
        "V9Rnfp3r6mmm"
      ]
    },
    "kernelspec": {
      "display_name": "Python 3",
      "name": "python3"
    },
    "language_info": {
      "name": "python"
    }
  },
  "nbformat": 4,
  "nbformat_minor": 0
}